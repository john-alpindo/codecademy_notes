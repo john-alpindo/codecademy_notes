{
 "cells": [
  {
   "cell_type": "markdown",
   "metadata": {},
   "source": [
    "# Function Arguments\n",
    "\n",
    "Using a **mutable object as a default argument** is a common pitfall."
   ]
  },
  {
   "cell_type": "code",
   "execution_count": 4,
   "metadata": {},
   "outputs": [
    {
     "name": "stdout",
     "output_type": "stream",
     "text": [
      "[90]\n",
      "[90, 100]\n",
      "4382451520\n",
      "4382451520\n"
     ]
    }
   ],
   "source": [
    "def createStudent(name, age, grades=[]):\n",
    "    return {\n",
    "        'name': name,\n",
    "        'age': age,\n",
    "        'grades': grades\n",
    "    }\n",
    "\n",
    "chrisley = createStudent('Chrisley', 15)\n",
    "dallas = createStudent('Dallas', 16)\n",
    "\n",
    "def addGrade(student, grade):\n",
    "    student['grades'].append(grade)\n",
    "    # To help visualize the grades we have added a print statement\n",
    "    print(student['grades'])\n",
    "\n",
    "addGrade(chrisley, 90)\n",
    "addGrade(dallas, 100)\n",
    "\n",
    "# The ids printed will vary depending on the computer we are using. \n",
    "print(id(chrisley['grades']))\n",
    "print(id(dallas['grades']))"
   ]
  },
  {
   "cell_type": "markdown",
   "metadata": {},
   "source": [
    "The issue lies in the default parameter `grades=[]` in the createStudent function. In Python, default parameter values are evaluated once when the function is defined, not each time the function is called. So, when you call `createStudent('Chrisley', 15)`, the grades list is initialized once and reused for every subsequent call that doesn't provide a value for grades. This can lead to unexpected behavior, especially when dealing with mutable types like lists.\n",
    "\n",
    "To fix this, you can use `None` as a default value and set the default value inside the function."
   ]
  },
  {
   "cell_type": "code",
   "execution_count": 5,
   "metadata": {},
   "outputs": [
    {
     "name": "stdout",
     "output_type": "stream",
     "text": [
      "[90]\n",
      "[100]\n",
      "4562204736\n",
      "4562204864\n"
     ]
    }
   ],
   "source": [
    "def createStudent(name, age, grades=None):\n",
    "  if grades is None:\n",
    "    grades = []\n",
    "  return {\n",
    "    'name': name,\n",
    "    'age': age,\n",
    "    'grades': grades\n",
    "  }\n",
    "\n",
    "def addGrade(student, grade):\n",
    "    student['grades'].append(grade)\n",
    "    # To help visualize the grades we have added a print statement\n",
    "    print(student['grades'])\n",
    "\n",
    "chrisley = createStudent('Chrisley', 15)\n",
    "dallas = createStudent('Dallas', 16)\n",
    "\n",
    "addGrade(chrisley, 90)\n",
    "addGrade(dallas, 100)\n",
    "\n",
    "# The ids printed will vary depending on the computer we are using. \n",
    "print(id(chrisley['grades']))\n",
    "print(id(dallas['grades']))"
   ]
  },
  {
   "cell_type": "markdown",
   "metadata": {},
   "source": [
    "## Function Arguments: A Recap\n",
    "### Positional Arguments\n",
    "```python\n",
    "def print_name(first_name, last_name): \n",
    "  print(first_name, last_name)\n",
    "\n",
    "print_name('Jiho', 'Baggins')\n",
    "```\n",
    "### Keyword Arguments\n",
    "```python\n",
    "def print_name(first_name, last_name): \n",
    "  print(first_name, last_name)\n",
    "\n",
    "print_name(last_name='Baggins', first_name='Jiho')\n",
    "```\n",
    "Here, the order of the arguments doesn't matter because we're using keyword arguments.\n",
    "### Default Arguments\n",
    "```python\n",
    "def print_name(first_name='Jiho', last_name='Baggins'): \n",
    "  print(first_name, last_name)\n",
    "\n",
    "print_name()\n",
    "```"
   ]
  },
  {
   "cell_type": "markdown",
   "metadata": {},
   "source": [
    "## Variable number of arguments: *args"
   ]
  },
  {
   "cell_type": "code",
   "execution_count": 7,
   "metadata": {},
   "outputs": [
    {
     "name": "stdout",
     "output_type": "stream",
     "text": [
      "('Arg1', 245, False)\n"
     ]
    }
   ],
   "source": [
    "def my_function(*args):\n",
    "  print(args)\n",
    "\n",
    "my_function('Arg1', 245, False)"
   ]
  },
  {
   "cell_type": "markdown",
   "metadata": {},
   "source": [
    "The unpacking operator `*` allows us to pass a variable number of arguments to a function. The arguments are captured in a tuple."
   ]
  },
  {
   "cell_type": "markdown",
   "metadata": {},
   "source": [
    "## Variable number of keyword arguments: **kwargs"
   ]
  },
  {
   "cell_type": "code",
   "execution_count": 8,
   "metadata": {},
   "outputs": [
    {
     "name": "stdout",
     "output_type": "stream",
     "text": [
      "<class 'dict'>\n",
      "{'this_arg': 'wowzers', 'anything_goes': 101}\n",
      "101\n"
     ]
    }
   ],
   "source": [
    "def arbitrary_keyword_args(**kwargs):\n",
    "  print(type(kwargs))\n",
    "  print(kwargs)\n",
    "  # See if there's an 'anything_goes' keyword arg and print it\n",
    "  print(kwargs.get('anything_goes'))\n",
    "\n",
    "arbitrary_keyword_args(this_arg='wowzers', anything_goes=101)"
   ]
  },
  {
   "cell_type": "markdown",
   "metadata": {},
   "source": [
    "The double unpacking operator `**` allows us to pass a variable number of keyword arguments to a function. The arguments are captured in a dictionary."
   ]
  },
  {
   "cell_type": "markdown",
   "metadata": {},
   "source": [
    "## Working with **kwargs\n",
    "### .values()"
   ]
  },
  {
   "cell_type": "code",
   "execution_count": 9,
   "metadata": {},
   "outputs": [
    {
     "name": "stdout",
     "output_type": "stream",
     "text": [
      "arg1\n",
      "True\n",
      "100\n"
     ]
    }
   ],
   "source": [
    "def print_data(**data):\n",
    "  for arg in data.values():\n",
    "    print(arg)\n",
    "\n",
    "print_data(a='arg1', b=True, c=100)"
   ]
  },
  {
   "cell_type": "markdown",
   "metadata": {},
   "source": [
    "### Combine positional arguments and **kwargs\n",
    "Pyhton allows us to combine positional arguments and `**kwargs` in a function definition. However, the positional arguments must come before `**kwargs`."
   ]
  },
  {
   "cell_type": "code",
   "execution_count": 10,
   "metadata": {},
   "outputs": [
    {
     "name": "stdout",
     "output_type": "stream",
     "text": [
      "position 1\n",
      "arg1\n",
      "True\n",
      "100\n"
     ]
    }
   ],
   "source": [
    "def print_data(positional_arg, **data):\n",
    "  print(positional_arg)\n",
    "  for arg in data.values():\n",
    "    print(arg)\n",
    "\n",
    "print_data('position 1', a='arg1', b=True, c=100)"
   ]
  },
  {
   "cell_type": "markdown",
   "metadata": {},
   "source": [
    "## Working with different types of arguments\n",
    "The order of the arguments should be:\n",
    "1. Positional arguments\n",
    "2. `*args`\n",
    "3. Keyword arguments\n",
    "4. `**kwargs`\n"
   ]
  },
  {
   "cell_type": "code",
   "execution_count": 11,
   "metadata": {},
   "outputs": [
    {
     "name": "stdout",
     "output_type": "stream",
     "text": [
      "Baby Beets\n",
      "('Salmon', 'Scallops')\n",
      "Mashed Potatoes\n",
      "{'scoop1': 'Vanilla', 'scoop2': 'Cookies and Cream'}\n"
     ]
    }
   ],
   "source": [
    "def single_prix_fixe_order(appetizer, *entrees, sides, **dessert_scoops):\n",
    "    print(appetizer)\n",
    "    print(entrees)\n",
    "    print(sides)\n",
    "    print(dessert_scoops)\n",
    "\n",
    "single_prix_fixe_order('Baby Beets', 'Salmon', 'Scallops', sides='Mashed Potatoes', scoop1='Vanilla', scoop2='Cookies and Cream')"
   ]
  },
  {
   "cell_type": "markdown",
   "metadata": {},
   "source": [
    "## Function Call Unpacking and Beyond"
   ]
  },
  {
   "cell_type": "markdown",
   "metadata": {},
   "source": [
    "`*` can be used to unpack iterables in function calls."
   ]
  },
  {
   "cell_type": "code",
   "execution_count": 14,
   "metadata": {},
   "outputs": [
    {
     "name": "stdout",
     "output_type": "stream",
     "text": [
      "[3, 4, 5]\n"
     ]
    }
   ],
   "source": [
    "start_and_stop = [3, 6]\n",
    "\n",
    "range_values = range(*start_and_stop)\n",
    "print(list(range_values))"
   ]
  },
  {
   "cell_type": "markdown",
   "metadata": {},
   "source": [
    "### Unpacking parts of an iterable"
   ]
  },
  {
   "cell_type": "code",
   "execution_count": 15,
   "metadata": {},
   "outputs": [
    {
     "name": "stdout",
     "output_type": "stream",
     "text": [
      "[6, 9, 12]\n"
     ]
    }
   ],
   "source": [
    "a, *b, c = [3, 6, 9, 12, 15]\n",
    "print(b)"
   ]
  },
  {
   "cell_type": "markdown",
   "metadata": {},
   "source": [
    "### Merging iterables"
   ]
  },
  {
   "cell_type": "code",
   "execution_count": 16,
   "metadata": {},
   "outputs": [
    {
     "name": "stdout",
     "output_type": "stream",
     "text": [
      "(0, 3, 6, 9, 12)\n"
     ]
    }
   ],
   "source": [
    "my_tuple = (3, 6, 9)\n",
    "merged_tuple = (0, *my_tuple, 12)\n",
    "print(merged_tuple)"
   ]
  },
  {
   "cell_type": "markdown",
   "metadata": {},
   "source": [
    "`**` can be used to unpack dictionaries in function calls.\n"
   ]
  },
  {
   "cell_type": "code",
   "execution_count": 13,
   "metadata": {},
   "outputs": [
    {
     "name": "stdout",
     "output_type": "stream",
     "text": [
      "18\n"
     ]
    }
   ],
   "source": [
    "numbers  = {'num1': 3, 'num2': 6, 'num3': 9}\n",
    "\n",
    "def sum(num1, num2, num3):\n",
    "  print(num1 + num2 + num3)\n",
    "\n",
    "sum(**numbers)"
   ]
  },
  {
   "cell_type": "markdown",
   "metadata": {},
   "source": [
    "\n",
    "# Namespaces and Scope\n",
    "## Namespaces\n",
    "### Built-in Namespace\n",
    "The built-in namespace contains all the built-in functions and exceptions in Python. You can access these functions and exceptions without importing any module.\n",
    "\n",
    "The `dir(__builtins__)` function returns a list of all the names in the built-in namespace.\n",
    "\n",
    "```python\n",
    "print(dir(__builtins__))\n",
    "```\n",
    "```text\n",
    "['ArithmeticError', 'AssertionError', 'AttributeError', 'BaseException', 'BlockingIOError', 'BrokenPipeError', 'BufferError', 'BytesWarning', 'ChildProcessError', 'ConnectionAbortedError', 'ConnectionError', 'ConnectionRefusedError', 'ConnectionResetError', 'DeprecationWarning', 'EOFError', 'Ellipsis', 'EnvironmentError', 'Exception', 'False', 'FileExistsError', 'FileNotFoundError', 'FloatingPointError', 'FutureWarning', 'GeneratorExit', 'IOError', 'ImportError', 'ImportWarning', 'IndentationError', 'IndexError', 'InterruptedError', 'IsADirectoryError', 'KeyError', 'KeyboardInterrupt', 'LookupError', 'MemoryError', 'ModuleNotFoundError', 'NameError', 'None', 'NotADirectoryError', 'NotImplemented', 'NotImplementedError', 'OSError', 'OverflowError', 'PendingDeprecationWarning', 'PermissionError', 'ProcessLookupError', 'RecursionError', 'ReferenceError', 'ResourceWarning', 'RuntimeError', 'RuntimeWarning', 'StopAsyncIteration', 'StopIteration', 'SyntaxError', 'SyntaxWarning', 'SystemError', 'SystemExit', 'TabError', 'TimeoutError', 'True', 'TypeError', 'UnboundLocalError', 'UnicodeDecodeError', 'UnicodeEncodeError', 'UnicodeError', 'UnicodeTranslateError', 'UnicodeWarning', 'UserWarning', 'ValueError', 'Warning', 'ZeroDivisionError', '__build_class__', '__debug__', '__doc__', '__import__', '__loader__', '__name__', '__package__', '__spec__', 'abs', 'all', 'any', 'ascii', 'bin', 'bool', 'bytearray', 'bytes', 'callable', 'chr', 'classmethod', 'compile', 'complex', 'copyright', 'credits', 'delattr', 'dict', 'dir', 'divmod', 'enumerate', 'eval', 'exec', 'exit', 'filter', 'float', 'format', 'frozenset', 'getattr', 'globals', 'hasattr', 'hash', 'help', 'hex', 'id', 'input', 'int', 'isinstance', 'issubclass', 'iter', 'len', 'license', 'list', 'locals', 'map', 'max', 'memoryview', 'min', 'next', 'object', 'oct', 'open', 'ord', 'pow', 'print', 'property', 'quit', 'range', 'repr', 'reversed', 'round', 'set', 'setattr', 'slice', 'sorted', 'staticmethod', 'str', 'sum', 'super', 'tuple', 'type', 'vars', 'zip']\n",
    "```\n",
    "\n",
    "### Global Namespace\n",
    "It includes all non-nested functions and variables that are defined in the global scope. It has a lifetime until the program is terminated.\n",
    "\n",
    "The `globals()` function returns a dictionary containing the variables defined in the global namespace.\n",
    "\n",
    "```python\n",
    "#Imaginary File: main.py\n",
    "# ...\n",
    "# ...\n",
    "\n",
    "print(globals())\n",
    "```\n",
    "\n",
    "```text\n",
    "{'__name__': '__main__', '__doc__': None, '__package__': None, '__loader__': <_frozen_importlib_external.SourceFileLoader object at 0x7f224a7ae4c0>, '__spec__': None, '__annotations__': {}, '__builtins__': <module 'builtins' (built-in)>, '__file__': 'main.py', '__cached__': None, 'random': <module 'random' from '/usr/lib/python3.8/random.py'>, 'first_name': 'Jaya', 'last_name': 'Bodegard', 'print_variables': <function print_variables at 0x7f224a76a1f0>}\n",
    "```\n",
    "\n",
    "### Local Namespace\n",
    "It includes all the names that are defined in the current function. It is created when the function is called and deleted when the function is done executing.\n",
    "\n",
    "The `locals()` function returns a dictionary containing the variables defined in the local namespace. If we call `locals()` outside a function, it will return the global namespace.\n",
    "\n",
    "```python\n",
    "global_variable = 'global'\n",
    "\n",
    "def add(num1, num2):\n",
    "  nested_value = 'Inside Function'   \n",
    "  print(num1 + num2)\n",
    "  print(locals())\n",
    "\n",
    "add(5, 10) \n",
    "```\n",
    "\n",
    "```text\n",
    "15\n",
    "{'num1': 5, 'num2': 10, 'nested_value': 'Inside Function'}\n",
    "```\n",
    "\n",
    "### Enclosing Namespace\n",
    "It includes all the names that are defined in the local scope of any and all enclosing functions. It is created when a function is defined inside another function.\n",
    "\n",
    "```python\n",
    "global_variable = 'global'\n",
    "\n",
    "def outer_function():\n",
    "  outer_value = \"outer\"\n",
    "\n",
    "  def inner_function():\n",
    "    inner_value = \"inner\"\n",
    "  inner_function()\n",
    "  # Added locals output\n",
    "  print(locals())\n",
    "\n",
    "outer_function()\n",
    "```\n",
    "\n",
    "```text\n",
    "{'outer_value': 'outer', 'inner_function': <function outer_function.<locals>.inner_function at 0x7f224a76a280>}\n",
    "```\n",
    "## Scope\n",
    "Scope refers to the region in a program where a variable is accessible and in what order the namespaces are searched to find the variable.\n",
    "\n",
    "### Local Scope\n",
    "It is the innermost scope that contains the local names.\n",
    "\n",
    "```python\n",
    "def favorite_color(): \n",
    "  color = 'Red'\n",
    "\n",
    "print(color)\n",
    "```\n",
    "`color` is scoped locally to the `favorite_color` function. It is not accessible outside the function.\n",
    "\n",
    "### Enclosing/Nonlocal Scope\n",
    "It is the scope that contains the local scope. It is used when a variable is not found in the local scope.\n",
    "\n",
    "```python\n",
    "def outer_function():\n",
    "  enclosing_value = 'Enclosing Value'\n",
    "  \n",
    "  def nested_function():\n",
    "    # nonlocal enclosing_value\n",
    "    enclosing_value = enclosing_value + ' changed'\n",
    "  \n",
    "  nested_function()\n",
    "  print(enclosing_value)\n",
    "\n",
    "outer_function()\n",
    "```\n",
    "This code will raise an `UnboundLocalError` because the `enclosing_value` variable is being reassigned in the `nested_function` without being declared as nonlocal.\n",
    "\n",
    "#### Modifyin Scope Behavior: `nonlocal` statement\n",
    "The `nonlocal` statement is used to indicate that a variable is not local to the current function but is in the enclosing scope.\n",
    "\n",
    "```python\n",
    "def outer_function():\n",
    "  enclosing_value = 'Enclosing Value'\n",
    "  \n",
    "  def nested_function():\n",
    "    nonlocal enclosing_value\n",
    "    enclosing_value = enclosing_value + ' changed'\n",
    "  \n",
    "  nested_function()\n",
    "  print(enclosing_value)\n",
    "```\n",
    "This code will print `Enclosing Value changed` because the `enclosing_value` variable is declared as nonlocal.\n",
    "\n",
    "### Global Scope\n",
    "It is the highest level of access, and it contains all the names that are defined at the top level of the script or module.\n",
    "\n",
    "Similar to local scope, values can be accessed from the global scope, but they cannot be modified.\n",
    "\n",
    "```python\n",
    "# global scope variable\n",
    "gravity = 9.8\n",
    "\n",
    "def get_force(mass):\n",
    "  gravity += 100\n",
    "  return mass * gravity\n",
    "\n",
    "print(get_force(60))\n",
    "```\n",
    "\n",
    "```text\n",
    "UnboundLocalError: local variable 'gravity' referenced before assignment\n",
    "```\n",
    "\n",
    "#### Modifyin Scope Behavior: `global` statement\n",
    "The `global` statement is used to indicate that a variable is not local and allows you to modify the variable in the global scope.\n",
    "\n",
    "```python\n",
    "global_var = 10\n",
    "\n",
    "def some_function():\n",
    "  global global_var\n",
    "  global_var = 20\n",
    "\n",
    "some_function()\n",
    "\n",
    "print(global_var)\n",
    "```\n",
    "\n",
    "Using the global statement would create the new variable in the global namespace.\n",
    "```python\n",
    "def some_function():\n",
    "  global x\n",
    "  x = 30\n",
    "\n",
    "some_function()\n",
    "print(x)\n",
    "```\n",
    "\n",
    "### Scope Resolution: The LEGB Rule\n",
    "\n",
    "Scope resolution refers to the process of determining the value of a variable within a program based on its scope. When a variable is referenced, the interpreter searches for its value in a specific order known as the LEGB rule:\n",
    "\n",
    "1. **Local Scope (L)**: The innermost scope where the variable is defined. It includes variables defined within a function or method. If the variable is not found in this scope, the search continues to the next scope.\n",
    "\n",
    "2. **Enclosing Scope (E)**: The scope that contains the local scope. It is used when a variable is not found in the local scope. This occurs in nested functions or methods where the inner function can access variables from the outer function.\n",
    "\n",
    "3. **Global Scope (G)**: The highest level of access, containing all the names defined at the top level of the script or module. Variables defined outside of any function or class belong to the global scope. If the variable is not found in the local or enclosing scope, the search continues to the global scope.\n",
    "\n",
    "4. **Built-in Scope (B)**: The built-in scope contains all the names defined in the Python built-in modules. These names are available globally in any Python program.\n",
    "\n",
    "The scope resolution process follows this order: local scope, enclosing scope, global scope, and built-in scope. If the variable is not found in any of these scopes, a NameError is raised.\n",
    "\n",
    "By understanding the scope resolution process, developers can effectively manage variable names and avoid conflicts or unexpected behavior in their programs.\n",
    "\n",
    "```python\n",
    "age = 27 \n",
    "\n",
    "def func(): \n",
    "  age = 42\n",
    "\n",
    "  def inner_func():\n",
    "    print(age)\n",
    "  \n",
    "  inner_func() \n",
    "\n",
    "func()\n",
    "```\n",
    "Here the output will be `42` because the `age` variable in the `inner_func` function is resolved in the enclosing scope, which is the `func` function."
   ]
  }
 ],
 "metadata": {
  "kernelspec": {
   "display_name": "Python 3",
   "language": "python",
   "name": "python3"
  },
  "language_info": {
   "codemirror_mode": {
    "name": "ipython",
    "version": 3
   },
   "file_extension": ".py",
   "mimetype": "text/x-python",
   "name": "python",
   "nbconvert_exporter": "python",
   "pygments_lexer": "ipython3",
   "version": "3.10.0"
  }
 },
 "nbformat": 4,
 "nbformat_minor": 2
}
