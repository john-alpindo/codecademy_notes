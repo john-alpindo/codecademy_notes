{
 "cells": [
  {
   "cell_type": "markdown",
   "metadata": {},
   "source": [
    "# Function Arguments\n",
    "\n",
    "Using a **mutable object as a default argument** is a common pitfall."
   ]
  },
  {
   "cell_type": "code",
   "execution_count": 4,
   "metadata": {},
   "outputs": [
    {
     "name": "stdout",
     "output_type": "stream",
     "text": [
      "[90]\n",
      "[90, 100]\n",
      "4382451520\n",
      "4382451520\n"
     ]
    }
   ],
   "source": [
    "def createStudent(name, age, grades=[]):\n",
    "    return {\n",
    "        'name': name,\n",
    "        'age': age,\n",
    "        'grades': grades\n",
    "    }\n",
    "\n",
    "chrisley = createStudent('Chrisley', 15)\n",
    "dallas = createStudent('Dallas', 16)\n",
    "\n",
    "def addGrade(student, grade):\n",
    "    student['grades'].append(grade)\n",
    "    # To help visualize the grades we have added a print statement\n",
    "    print(student['grades'])\n",
    "\n",
    "addGrade(chrisley, 90)\n",
    "addGrade(dallas, 100)\n",
    "\n",
    "# The ids printed will vary depending on the computer we are using. \n",
    "print(id(chrisley['grades']))\n",
    "print(id(dallas['grades']))"
   ]
  },
  {
   "cell_type": "markdown",
   "metadata": {},
   "source": [
    "The issue lies in the default parameter `grades=[]` in the createStudent function. In Python, default parameter values are evaluated once when the function is defined, not each time the function is called. So, when you call `createStudent('Chrisley', 15)`, the grades list is initialized once and reused for every subsequent call that doesn't provide a value for grades. This can lead to unexpected behavior, especially when dealing with mutable types like lists.\n",
    "\n",
    "To fix this, you can use `None` as a default value and set the default value inside the function."
   ]
  },
  {
   "cell_type": "code",
   "execution_count": 5,
   "metadata": {},
   "outputs": [
    {
     "name": "stdout",
     "output_type": "stream",
     "text": [
      "[90]\n",
      "[100]\n",
      "4562204736\n",
      "4562204864\n"
     ]
    }
   ],
   "source": [
    "def createStudent(name, age, grades=None):\n",
    "  if grades is None:\n",
    "    grades = []\n",
    "  return {\n",
    "    'name': name,\n",
    "    'age': age,\n",
    "    'grades': grades\n",
    "  }\n",
    "\n",
    "def addGrade(student, grade):\n",
    "    student['grades'].append(grade)\n",
    "    # To help visualize the grades we have added a print statement\n",
    "    print(student['grades'])\n",
    "\n",
    "chrisley = createStudent('Chrisley', 15)\n",
    "dallas = createStudent('Dallas', 16)\n",
    "\n",
    "addGrade(chrisley, 90)\n",
    "addGrade(dallas, 100)\n",
    "\n",
    "# The ids printed will vary depending on the computer we are using. \n",
    "print(id(chrisley['grades']))\n",
    "print(id(dallas['grades']))"
   ]
  },
  {
   "cell_type": "markdown",
   "metadata": {},
   "source": [
    "## Function Arguments: A Recap\n",
    "### Positional Arguments\n",
    "```python\n",
    "def print_name(first_name, last_name): \n",
    "  print(first_name, last_name)\n",
    "\n",
    "print_name('Jiho', 'Baggins')\n",
    "```\n",
    "### Keyword Arguments\n",
    "```python\n",
    "def print_name(first_name, last_name): \n",
    "  print(first_name, last_name)\n",
    "\n",
    "print_name(last_name='Baggins', first_name='Jiho')\n",
    "```\n",
    "Here, the order of the arguments doesn't matter because we're using keyword arguments.\n",
    "### Default Arguments\n",
    "```python\n",
    "def print_name(first_name='Jiho', last_name='Baggins'): \n",
    "  print(first_name, last_name)\n",
    "\n",
    "print_name()\n",
    "```"
   ]
  },
  {
   "cell_type": "markdown",
   "metadata": {},
   "source": [
    "## Variable number of arguments: *args"
   ]
  },
  {
   "cell_type": "code",
   "execution_count": 7,
   "metadata": {},
   "outputs": [
    {
     "name": "stdout",
     "output_type": "stream",
     "text": [
      "('Arg1', 245, False)\n"
     ]
    }
   ],
   "source": [
    "def my_function(*args):\n",
    "  print(args)\n",
    "\n",
    "my_function('Arg1', 245, False)"
   ]
  },
  {
   "cell_type": "markdown",
   "metadata": {},
   "source": [
    "The unpacking operator `*` allows us to pass a variable number of arguments to a function. The arguments are captured in a tuple."
   ]
  },
  {
   "cell_type": "markdown",
   "metadata": {},
   "source": [
    "## Variable number of keyword arguments: **kwargs"
   ]
  },
  {
   "cell_type": "code",
   "execution_count": 8,
   "metadata": {},
   "outputs": [
    {
     "name": "stdout",
     "output_type": "stream",
     "text": [
      "<class 'dict'>\n",
      "{'this_arg': 'wowzers', 'anything_goes': 101}\n",
      "101\n"
     ]
    }
   ],
   "source": [
    "def arbitrary_keyword_args(**kwargs):\n",
    "  print(type(kwargs))\n",
    "  print(kwargs)\n",
    "  # See if there's an 'anything_goes' keyword arg and print it\n",
    "  print(kwargs.get('anything_goes'))\n",
    "\n",
    "arbitrary_keyword_args(this_arg='wowzers', anything_goes=101)"
   ]
  },
  {
   "cell_type": "markdown",
   "metadata": {},
   "source": [
    "The double unpacking operator `**` allows us to pass a variable number of keyword arguments to a function. The arguments are captured in a dictionary."
   ]
  },
  {
   "cell_type": "markdown",
   "metadata": {},
   "source": [
    "## Working with **kwargs\n",
    "### .values()"
   ]
  },
  {
   "cell_type": "code",
   "execution_count": 9,
   "metadata": {},
   "outputs": [
    {
     "name": "stdout",
     "output_type": "stream",
     "text": [
      "arg1\n",
      "True\n",
      "100\n"
     ]
    }
   ],
   "source": [
    "def print_data(**data):\n",
    "  for arg in data.values():\n",
    "    print(arg)\n",
    "\n",
    "print_data(a='arg1', b=True, c=100)"
   ]
  },
  {
   "cell_type": "markdown",
   "metadata": {},
   "source": [
    "### Combine positional arguments and **kwargs\n",
    "Pyhton allows us to combine positional arguments and `**kwargs` in a function definition. However, the positional arguments must come before `**kwargs`."
   ]
  },
  {
   "cell_type": "code",
   "execution_count": 10,
   "metadata": {},
   "outputs": [
    {
     "name": "stdout",
     "output_type": "stream",
     "text": [
      "position 1\n",
      "arg1\n",
      "True\n",
      "100\n"
     ]
    }
   ],
   "source": [
    "def print_data(positional_arg, **data):\n",
    "  print(positional_arg)\n",
    "  for arg in data.values():\n",
    "    print(arg)\n",
    "\n",
    "print_data('position 1', a='arg1', b=True, c=100)"
   ]
  },
  {
   "cell_type": "markdown",
   "metadata": {},
   "source": [
    "## Working with different types of arguments\n",
    "The order of the arguments should be:\n",
    "1. Positional arguments\n",
    "2. `*args`\n",
    "3. Keyword arguments\n",
    "4. `**kwargs`\n"
   ]
  },
  {
   "cell_type": "code",
   "execution_count": 11,
   "metadata": {},
   "outputs": [
    {
     "name": "stdout",
     "output_type": "stream",
     "text": [
      "Baby Beets\n",
      "('Salmon', 'Scallops')\n",
      "Mashed Potatoes\n",
      "{'scoop1': 'Vanilla', 'scoop2': 'Cookies and Cream'}\n"
     ]
    }
   ],
   "source": [
    "def single_prix_fixe_order(appetizer, *entrees, sides, **dessert_scoops):\n",
    "    print(appetizer)\n",
    "    print(entrees)\n",
    "    print(sides)\n",
    "    print(dessert_scoops)\n",
    "\n",
    "single_prix_fixe_order('Baby Beets', 'Salmon', 'Scallops', sides='Mashed Potatoes', scoop1='Vanilla', scoop2='Cookies and Cream')"
   ]
  },
  {
   "cell_type": "markdown",
   "metadata": {},
   "source": [
    "## Function Call Unpacking and Beyond"
   ]
  },
  {
   "cell_type": "markdown",
   "metadata": {},
   "source": [
    "`*` can be used to unpack iterables in function calls."
   ]
  },
  {
   "cell_type": "code",
   "execution_count": 14,
   "metadata": {},
   "outputs": [
    {
     "name": "stdout",
     "output_type": "stream",
     "text": [
      "[3, 4, 5]\n"
     ]
    }
   ],
   "source": [
    "start_and_stop = [3, 6]\n",
    "\n",
    "range_values = range(*start_and_stop)\n",
    "print(list(range_values))"
   ]
  },
  {
   "cell_type": "markdown",
   "metadata": {},
   "source": [
    "### Unpacking parts of an iterable"
   ]
  },
  {
   "cell_type": "code",
   "execution_count": 15,
   "metadata": {},
   "outputs": [
    {
     "name": "stdout",
     "output_type": "stream",
     "text": [
      "[6, 9, 12]\n"
     ]
    }
   ],
   "source": [
    "a, *b, c = [3, 6, 9, 12, 15]\n",
    "print(b)"
   ]
  },
  {
   "cell_type": "markdown",
   "metadata": {},
   "source": [
    "### Merging iterables"
   ]
  },
  {
   "cell_type": "code",
   "execution_count": 16,
   "metadata": {},
   "outputs": [
    {
     "name": "stdout",
     "output_type": "stream",
     "text": [
      "(0, 3, 6, 9, 12)\n"
     ]
    }
   ],
   "source": [
    "my_tuple = (3, 6, 9)\n",
    "merged_tuple = (0, *my_tuple, 12)\n",
    "print(merged_tuple)"
   ]
  },
  {
   "cell_type": "markdown",
   "metadata": {},
   "source": [
    "`**` can be used to unpack dictionaries in function calls.\n"
   ]
  },
  {
   "cell_type": "code",
   "execution_count": 13,
   "metadata": {},
   "outputs": [
    {
     "name": "stdout",
     "output_type": "stream",
     "text": [
      "18\n"
     ]
    }
   ],
   "source": [
    "numbers  = {'num1': 3, 'num2': 6, 'num3': 9}\n",
    "\n",
    "def sum(num1, num2, num3):\n",
    "  print(num1 + num2 + num3)\n",
    "\n",
    "sum(**numbers)"
   ]
  },
  {
   "cell_type": "markdown",
   "metadata": {},
   "source": [
    "# Namespaces"
   ]
  }
 ],
 "metadata": {
  "kernelspec": {
   "display_name": "Python 3",
   "language": "python",
   "name": "python3"
  },
  "language_info": {
   "codemirror_mode": {
    "name": "ipython",
    "version": 3
   },
   "file_extension": ".py",
   "mimetype": "text/x-python",
   "name": "python",
   "nbconvert_exporter": "python",
   "pygments_lexer": "ipython3",
   "version": "3.10.0"
  }
 },
 "nbformat": 4,
 "nbformat_minor": 2
}
