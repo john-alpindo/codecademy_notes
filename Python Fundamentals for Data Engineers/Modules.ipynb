{
 "cells": [
  {
   "cell_type": "markdown",
   "metadata": {},
   "source": [
    "# Modules in Python\n",
    "\n",
    "Python allows you to define modules, which are files that contain Python code. A module can define functions, classes, and variables. A module can also include runnable code."
   ]
  },
  {
   "cell_type": "code",
   "execution_count": 1,
   "metadata": {},
   "outputs": [
    {
     "name": "stdout",
     "output_type": "stream",
     "text": [
      "2024-05-15 09:24:27.168655\n"
     ]
    }
   ],
   "source": [
    "from datetime import datetime\n",
    "\n",
    "current_time = datetime.now()\n",
    "print(current_time)"
   ]
  },
  {
   "cell_type": "markdown",
   "metadata": {},
   "source": [
    "## Random\n",
    "\n",
    "`.randint()` is a function that returns a random integer between two values. The second value is inclusive."
   ]
  },
  {
   "cell_type": "code",
   "execution_count": null,
   "metadata": {},
   "outputs": [],
   "source": [
    "import random\n",
    "\n",
    "random_list = [random.randint(1, 100) for i in range(101)]\n",
    "\n",
    "randomer_number = random.choice(random_list)\n",
    "print(randomer_number)"
   ]
  },
  {
   "cell_type": "markdown",
   "metadata": {},
   "source": [
    "## Namespaces\n",
    "\n",
    "A namespace isolate the functions, classes, and variables defined in a module from the code in other modules to avoid conflicts. This namespace is created by the module's name. Sometimes, the module name is too long, so you can use an alias to refer to the module.\n",
    "\n",
    "\n",
    "```python\n",
    "import module_name as name_you_pick_for_the_module\n",
    "```"
   ]
  },
  {
   "cell_type": "markdown",
   "metadata": {},
   "source": [
    "## Decimal\n",
    "\n",
    "The `decimal` module provides support for fast correctly-rounded decimal floating point arithmetic."
   ]
  },
  {
   "cell_type": "code",
   "execution_count": 3,
   "metadata": {},
   "outputs": [
    {
     "name": "stdout",
     "output_type": "stream",
     "text": [
      "0.45\n"
     ]
    }
   ],
   "source": [
    "from decimal import Decimal\n",
    "\n",
    "cost_of_gum = Decimal('0.10')\n",
    "cost_of_gumdrop = Decimal('0.35')\n",
    "\n",
    "cost_of_transaction = cost_of_gum + cost_of_gumdrop\n",
    "# Returns 0.45 instead of 0.44999999999999996\n",
    "print(cost_of_transaction)"
   ]
  },
  {
   "cell_type": "markdown",
   "metadata": {},
   "source": [
    "## Files and Scope"
   ]
  },
  {
   "cell_type": "markdown",
   "metadata": {},
   "source": [
    "library.py\n",
    "\n",
    "```python\n",
    "def always_three():\n",
    "  return 3\n",
    "```\n",
    "\n",
    "script.py\n",
    "\n",
    "```python\n",
    "from library import always_three\n",
    "\n",
    "print(always_three())\n",
    "```"
   ]
  }
 ],
 "metadata": {
  "kernelspec": {
   "display_name": "Python 3",
   "language": "python",
   "name": "python3"
  },
  "language_info": {
   "codemirror_mode": {
    "name": "ipython",
    "version": 3
   },
   "file_extension": ".py",
   "mimetype": "text/x-python",
   "name": "python",
   "nbconvert_exporter": "python",
   "pygments_lexer": "ipython3",
   "version": "3.10.0"
  }
 },
 "nbformat": 4,
 "nbformat_minor": 2
}
