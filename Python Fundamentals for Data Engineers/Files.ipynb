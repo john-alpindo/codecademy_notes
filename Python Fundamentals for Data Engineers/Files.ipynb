{
 "cells": [
  {
   "cell_type": "markdown",
   "metadata": {},
   "source": [
    "# Files"
   ]
  },
  {
   "cell_type": "markdown",
   "metadata": {},
   "source": [
    "## Reading a File\n",
    "\n",
    "`.read()` reads the entire file and returns its contents as a string."
   ]
  },
  {
   "cell_type": "code",
   "execution_count": 1,
   "metadata": {},
   "outputs": [
    {
     "name": "stdout",
     "output_type": "stream",
     "text": [
      "Wowsers!\n"
     ]
    }
   ],
   "source": [
    "with open('real_cool_document.txt') as cool_doc:\n",
    "  cool_contents = cool_doc.read()\n",
    "print(cool_contents)"
   ]
  },
  {
   "cell_type": "markdown",
   "metadata": {},
   "source": [
    "## Iterating Through Lines\n",
    "\n",
    "`.readlines()` reads the entire file and returns its contents as a list of strings, one string per line."
   ]
  },
  {
   "cell_type": "code",
   "execution_count": 2,
   "metadata": {},
   "outputs": [
    {
     "name": "stdout",
     "output_type": "stream",
     "text": [
      "To one who has been long in city pent,\n",
      "\n",
      "’Tis very sweet to look into the fair\n",
      "\n",
      "And open face of heaven,—to breathe a prayer\n",
      "\n",
      "Full in the smile of the blue firmament.\n"
     ]
    }
   ],
   "source": [
    "with open('keats_sonnet.txt') as keats_sonnet:\n",
    "  for line in keats_sonnet.readlines():\n",
    "    print(line)"
   ]
  }
 ],
 "metadata": {
  "kernelspec": {
   "display_name": "Python 3",
   "language": "python",
   "name": "python3"
  },
  "language_info": {
   "codemirror_mode": {
    "name": "ipython",
    "version": 3
   },
   "file_extension": ".py",
   "mimetype": "text/x-python",
   "name": "python",
   "nbconvert_exporter": "python",
   "pygments_lexer": "ipython3",
   "version": "3.10.0"
  }
 },
 "nbformat": 4,
 "nbformat_minor": 2
}
