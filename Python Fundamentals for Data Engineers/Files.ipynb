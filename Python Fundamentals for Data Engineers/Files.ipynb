{
 "cells": [
  {
   "cell_type": "markdown",
   "metadata": {},
   "source": [
    "# Files"
   ]
  },
  {
   "cell_type": "markdown",
   "metadata": {},
   "source": [
    "## Reading a File\n",
    "\n",
    "`.read()` reads the entire file and returns its contents as a string."
   ]
  },
  {
   "cell_type": "code",
   "execution_count": 5,
   "metadata": {},
   "outputs": [
    {
     "name": "stdout",
     "output_type": "stream",
     "text": [
      "Wowsers!\n"
     ]
    }
   ],
   "source": [
    "with open('./_sample_files/real_cool_document.txt') as cool_doc:\n",
    "  cool_contents = cool_doc.read()\n",
    "print(cool_contents)"
   ]
  },
  {
   "cell_type": "markdown",
   "metadata": {},
   "source": [
    "## Iterating Through Lines\n",
    "\n",
    "`.readlines()` reads the entire file and returns its contents as a list of strings, one string per line."
   ]
  },
  {
   "cell_type": "code",
   "execution_count": 6,
   "metadata": {},
   "outputs": [
    {
     "name": "stdout",
     "output_type": "stream",
     "text": [
      "To one who has been long in city pent,\n",
      "\n",
      "’Tis very sweet to look into the fair\n",
      "\n",
      "And open face of heaven,—to breathe a prayer\n",
      "\n",
      "Full in the smile of the blue firmament.\n"
     ]
    }
   ],
   "source": [
    "with open('./_sample_files/keats_sonnet.txt') as keats_sonnet:\n",
    "  for line in keats_sonnet.readlines():\n",
    "    print(line)"
   ]
  },
  {
   "cell_type": "markdown",
   "metadata": {},
   "source": [
    "## Reading a Line\n",
    "    \n",
    "`.readline()` reads the next line of the file and returns its contents as a string. This only reads one line at a time."
   ]
  },
  {
   "cell_type": "code",
   "execution_count": 7,
   "metadata": {},
   "outputs": [
    {
     "name": "stdout",
     "output_type": "stream",
     "text": [
      "’Tis very sweet to look into the fair\n",
      "\n"
     ]
    }
   ],
   "source": [
    "with open('./_sample_files/keats_sonnet.txt') as keats_sonnet:\n",
    "    first_line = keats_sonnet.readline()\n",
    "    second_line = keats_sonnet.readline()\n",
    "    print(second_line)"
   ]
  },
  {
   "cell_type": "markdown",
   "metadata": {},
   "source": [
    "## Writing a File\n",
    "\n",
    "`.write()` writes a string to the file."
   ]
  },
  {
   "cell_type": "code",
   "execution_count": 8,
   "metadata": {},
   "outputs": [],
   "source": [
    "with open('./_sample_files/generated_file.txt', 'w') as gen_file:\n",
    "    gen_file.write(\"What an incredible file!\")"
   ]
  },
  {
   "cell_type": "markdown",
   "metadata": {},
   "source": [
    "We pass the `'w'` argument to the `open()` function to open the file in write mode. If the file does not exist, it will be created. If the file already exists, it will be overwritten. The default mode is `'r'`, which opens the file in read mode."
   ]
  },
  {
   "cell_type": "markdown",
   "metadata": {},
   "source": [
    "## Appending to a File\n",
    "\n",
    "`.write()` writes a string to the file with the `'a'` argument. If the file does not exist, it will be created. If the file already exists, the new content will be appended to the end of the file."
   ]
  },
  {
   "cell_type": "code",
   "execution_count": 9,
   "metadata": {},
   "outputs": [
    {
     "name": "stdout",
     "output_type": "stream",
     "text": [
      "What an incredible file!\n",
      "... and it still is\n"
     ]
    }
   ],
   "source": [
    "with open('./_sample_files/generated_file.txt', 'a') as gen_file:\n",
    "  gen_file.write(\"\\n... and it still is\")\n",
    "\n",
    "with open('./_sample_files/generated_file.txt') as cool_file:\n",
    "    cool_contents = cool_file.read()\n",
    "    print(cool_contents)"
   ]
  },
  {
   "cell_type": "markdown",
   "metadata": {},
   "source": [
    "If we were to run again the previous code..."
   ]
  },
  {
   "cell_type": "code",
   "execution_count": 10,
   "metadata": {},
   "outputs": [
    {
     "name": "stdout",
     "output_type": "stream",
     "text": [
      "What an incredible file!\n",
      "... and it still is\n",
      "... and it still is\n"
     ]
    }
   ],
   "source": [
    "with open('./_sample_files/generated_file.txt', 'a') as gen_file:\n",
    "  gen_file.write(\"\\n... and it still is\")\n",
    "\n",
    "with open('./_sample_files/generated_file.txt') as cool_file:\n",
    "    cool_contents = cool_file.read()\n",
    "    print(cool_contents)"
   ]
  },
  {
   "cell_type": "markdown",
   "metadata": {},
   "source": [
    "## Reading a CSV file\n",
    "\n",
    "`csv.DictReader()` reads a CSV file and returns an iterator that produces dictionaries. Each dictionary represents a row in the CSV file."
   ]
  },
  {
   "cell_type": "code",
   "execution_count": 11,
   "metadata": {},
   "outputs": [
    {
     "name": "stdout",
     "output_type": "stream",
     "text": [
      "['wigginsryan@yahoo.com', 'hcosta@hotmail.com', 'a_bark_x@turner.com', 'lynniegonz@hotmail.com']\n"
     ]
    }
   ],
   "source": [
    "import csv\n",
    "\n",
    "list_of_email_addresses = []\n",
    "with open('./_sample_files/users.csv', newline='') as users_csv:\n",
    "  user_reader = csv.DictReader(users_csv)\n",
    "  for row in user_reader:\n",
    "    list_of_email_addresses.append(row['Email'])\n",
    "\n",
    "print(list_of_email_addresses)"
   ]
  },
  {
   "cell_type": "markdown",
   "metadata": {},
   "source": [
    "## Reading Diffrent Types of CSV Files\n",
    "\n",
    "`csv.DictReader()` with the `delimiter` argument reads a CSV file with a different delimiter."
   ]
  },
  {
   "cell_type": "code",
   "execution_count": 12,
   "metadata": {},
   "outputs": [
    {
     "name": "stdout",
     "output_type": "stream",
     "text": [
      "126 Orr Corner Suite 857\\nEast Michael, LA 54411\n",
      "6965 Miller Station Suite 485\\nNorth Michelle, KS 64364\n",
      "8749 Alicia Vista Apt. 288\\nLake Victoriaberg, TN 51094\n",
      "20116 Stephanie Stravenue\\nWhitneytown, IA 87358\n",
      "558 Melissa Keys Apt. 588\\nNorth Teresahaven, WA 63411\n",
      "725 Gloria Views Suite 628\\nEast Scott, IN 38095\n"
     ]
    }
   ],
   "source": [
    "import csv\n",
    "\n",
    "with open('./_sample_files/addresses.csv', newline='') as addresses_csv:\n",
    "  address_reader = csv.DictReader(addresses_csv, delimiter=';')\n",
    "  for row in address_reader:\n",
    "    print(row['Address'])"
   ]
  },
  {
   "cell_type": "markdown",
   "metadata": {},
   "source": [
    "`newline=''` is used to the `open()` function to avoid adding extra newlines to the CSV file."
   ]
  },
  {
   "cell_type": "markdown",
   "metadata": {},
   "source": [
    "## Writing a CSV File\n",
    "\n",
    "`csv.DictWriter()` writes a CSV file and returns an object that can be used to write rows to the CSV file."
   ]
  },
  {
   "cell_type": "code",
   "execution_count": 13,
   "metadata": {},
   "outputs": [],
   "source": [
    "big_list = [{'name': 'Fredrick Stein', 'userid': 6712359021, 'is_admin': False}, \n",
    "            {'name': 'Wiltmore Denis', 'userid': 2525942, 'is_admin': False}, \n",
    "            {'name': 'Greely Plonk', 'userid': 15890235, 'is_admin': False}, \n",
    "            {'name': 'Dendris Stulo', 'userid': 572189563, 'is_admin': True}] \n",
    "\n",
    "import csv\n",
    "\n",
    "with open('./_sample_files/output.csv', 'w') as output_csv:\n",
    "  fields = ['name', 'userid', 'is_admin']\n",
    "  output_writer = csv.DictWriter(output_csv, fieldnames=fields)\n",
    "\n",
    "  output_writer.writeheader()\n",
    "  for item in big_list:\n",
    "    output_writer.writerow(item)"
   ]
  },
  {
   "cell_type": "markdown",
   "metadata": {},
   "source": [
    "The `.writeheader()` method writes all the fields passed to the `fieldnames` argument of the `csv.DictWriter()` function. Then, we can use the `.writerow()` method to write rows to the CSV file."
   ]
  },
  {
   "cell_type": "markdown",
   "metadata": {},
   "source": [
    "## Reading a JSON File\n",
    "\n",
    "`json.load()` reads a JSON file and returns its contents as a dictionary."
   ]
  },
  {
   "cell_type": "markdown",
   "metadata": {},
   "source": [
    "```json\n",
    "{\n",
    "    \"user\": \"ellen_greg\",\n",
    "    \"action\": \"purchase\",\n",
    "    \"item_id\": \"14781239\"\n",
    "}\n",
    "```"
   ]
  },
  {
   "cell_type": "code",
   "execution_count": 14,
   "metadata": {},
   "outputs": [
    {
     "name": "stdout",
     "output_type": "stream",
     "text": [
      "ellen_greg\n"
     ]
    }
   ],
   "source": [
    "import json\n",
    "\n",
    "with open('./_sample_files/purchase_14781239.json') as purchase_json:\n",
    "  purchase_data = json.load(purchase_json)\n",
    "\n",
    "print(purchase_data['user'])"
   ]
  },
  {
   "cell_type": "markdown",
   "metadata": {},
   "source": [
    "## Writing a JSON File\n",
    "\n",
    "`json.dump()` writes a dictionary to a JSON file."
   ]
  },
  {
   "cell_type": "code",
   "execution_count": 15,
   "metadata": {},
   "outputs": [],
   "source": [
    "turn_to_json = {\n",
    "  'eventId': 674189,\n",
    "  'dateTime': '2015-02-12T09:23:17.511Z',\n",
    "  'chocolate': 'Semi-sweet Dark',\n",
    "  'isTomatoAFruit': True\n",
    "}\n",
    "\n",
    "import json\n",
    "\n",
    "with open('./_sample_files/output.json', 'w') as json_file:\n",
    "  json.dump(turn_to_json, json_file)"
   ]
  }
 ],
 "metadata": {
  "kernelspec": {
   "display_name": "Python 3",
   "language": "python",
   "name": "python3"
  },
  "language_info": {
   "codemirror_mode": {
    "name": "ipython",
    "version": 3
   },
   "file_extension": ".py",
   "mimetype": "text/x-python",
   "name": "python",
   "nbconvert_exporter": "python",
   "pygments_lexer": "ipython3",
   "version": "3.10.0"
  }
 },
 "nbformat": 4,
 "nbformat_minor": 2
}
