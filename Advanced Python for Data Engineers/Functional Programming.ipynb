{
 "cells": [
  {
   "cell_type": "markdown",
   "metadata": {},
   "source": [
    "## Immutable Data Types\n",
    "\n",
    "Immutable data types are those data types whose value cannot be changed once they are created. It is used in functional programming to avoid side effects."
   ]
  },
  {
   "cell_type": "markdown",
   "metadata": {},
   "source": [
    "#### `namedtuple`\n",
    "\n",
    "`namedtuple` is a factory function for creating tuple subclasses with named fields. It returns a new tuple subclass named `typename`. The field names are stored in the `_fields` attribute of the named tuple."
   ]
  },
  {
   "cell_type": "code",
   "execution_count": 5,
   "metadata": {},
   "outputs": [],
   "source": [
    "from collections import namedtuple\n",
    "\n",
    "# Create a class called student\n",
    "student = namedtuple(\"student\", [\"name\", \"age\", \"grade\"]) \n",
    "\n",
    "# Create tuples for the three students\n",
    "scott = student(\"Scott\", 28, 'A')\n",
    "nicole = student(\"Nicole\", 26, 'B')\n",
    "john = student(\"John\", 29, 'D')"
   ]
  },
  {
   "cell_type": "markdown",
   "metadata": {},
   "source": [
    "accessing fields by name is more readable than accessing them by index."
   ]
  },
  {
   "cell_type": "code",
   "execution_count": 6,
   "metadata": {},
   "outputs": [
    {
     "name": "stdout",
     "output_type": "stream",
     "text": [
      "Scott\n",
      "28\n",
      "A\n"
     ]
    }
   ],
   "source": [
    "# Access Scott’s information for example\n",
    "print(scott.name) # Output: ‘Scott’\n",
    "print(scott.age) # Output: 28\n",
    "print(scott.grade) # Output: ‘A’"
   ]
  },
  {
   "cell_type": "markdown",
   "metadata": {},
   "source": [
    "We can package up multiple values into a single tuple and access them by name."
   ]
  },
  {
   "cell_type": "code",
   "execution_count": 8,
   "metadata": {},
   "outputs": [],
   "source": [
    "students = (scott, nicole, john)"
   ]
  },
  {
   "cell_type": "markdown",
   "metadata": {},
   "source": [
    "## Review of Lambda Functions"
   ]
  },
  {
   "cell_type": "markdown",
   "metadata": {},
   "source": [
    "In functional programming, lambda functions are used to create anonymous functions. These functions are small and are used only once. They are defined using the `lambda` keyword."
   ]
  },
  {
   "cell_type": "markdown",
   "metadata": {},
   "source": [
    "Function without lambda:"
   ]
  },
  {
   "cell_type": "code",
   "execution_count": null,
   "metadata": {},
   "outputs": [],
   "source": [
    "def rect(b, h):\n",
    "  return b * h\n",
    "\n",
    "def tri(b, h):\n",
    "  return 0.5 * (b * h)\n",
    "\n",
    "# ppsm: price per square meter\n",
    "# dim: dimensions tuple\n",
    "def total_cost(ppsm, dim, area):\n",
    "  return ppsm * area(dim[0], dim[1])\n",
    "\n",
    "print(total_cost(3, (5, 5), rect)) # Rectangular sheet costing 75 units\n",
    "print(total_cost(4, (6, 7), tri)) # Triangular sheet costing 84 units"
   ]
  },
  {
   "cell_type": "markdown",
   "metadata": {},
   "source": [
    "Using the lambda function:"
   ]
  },
  {
   "cell_type": "code",
   "execution_count": null,
   "metadata": {},
   "outputs": [],
   "source": [
    "# ppsm: price per square meter\n",
    "# dim: dimensions tuple\n",
    "def total_cost(ppsm, dim, area):\n",
    " return ppsm * area(dim[0], dim[1])\n",
    "\n",
    "print(total_cost(3, (5, 5), lambda b, h: b*h)) # Rectangular sheet costing 75 units\n",
    "print(total_cost(4, (6, 7), lambda b, h: 0. 5 * b*h)) # Triangular sheet costing 84 units"
   ]
  },
  {
   "cell_type": "markdown",
   "metadata": {},
   "source": [
    "## Review of `filter()`, `map()`, and `reduce()`"
   ]
  },
  {
   "cell_type": "markdown",
   "metadata": {},
   "source": [
    "#### `filter()`\n",
    "\n",
    "`filter()` function is used to filter out the elements of a sequence. It takes a function and a sequence as arguments and returns an iterator."
   ]
  },
  {
   "cell_type": "markdown",
   "metadata": {},
   "source": [
    "Imperative code:"
   ]
  },
  {
   "cell_type": "code",
   "execution_count": 10,
   "metadata": {},
   "outputs": [
    {
     "name": "stdout",
     "output_type": "stream",
     "text": [
      "[2, 4, 6, 8, 10]\n"
     ]
    }
   ],
   "source": [
    "nums = (1, 2, 3, 4, 5, 6, 7, 8, 9, 10)\n",
    "\n",
    "# filter_values is not a higher-order function\n",
    "def filter_values(predicate, lst):\n",
    "\n",
    "  # Mutable list required because this example is imperative, not declarative\n",
    "  ret = []\n",
    "  for i in lst:\n",
    "    if predicate(i):\n",
    "      ret.append(i)\n",
    "  return ret\n",
    "\n",
    "filtered_numbers = filter_values(lambda x: x % 2 == 0, nums) \n",
    "\n",
    "print(filtered_numbers) "
   ]
  },
  {
   "cell_type": "markdown",
   "metadata": {},
   "source": [
    "Declarative code:"
   ]
  },
  {
   "cell_type": "code",
   "execution_count": 9,
   "metadata": {},
   "outputs": [
    {
     "name": "stdout",
     "output_type": "stream",
     "text": [
      "(2, 4, 6, 8, 10)\n"
     ]
    }
   ],
   "source": [
    "nums = (1, 2, 3, 4, 5, 6, 7, 8, 9, 10)\n",
    "\n",
    "filtered_numbers = filter(lambda x: x % 2 == 0, nums) \n",
    "\n",
    "print(tuple(filtered_numbers))"
   ]
  },
  {
   "cell_type": "markdown",
   "metadata": {},
   "source": [
    "#### `map()`\n",
    "\n",
    "`map()` function is used to apply a function to all the elements of a sequence. It takes a function and a sequence as arguments and returns an iterator."
   ]
  },
  {
   "cell_type": "markdown",
   "metadata": {},
   "source": [
    "Imperative code:"
   ]
  },
  {
   "cell_type": "code",
   "execution_count": 11,
   "metadata": {},
   "outputs": [
    {
     "name": "stdout",
     "output_type": "stream",
     "text": [
      "(1, 4, 9, 16, 25, 36, 49, 64, 81, 100)\n"
     ]
    }
   ],
   "source": [
    "nums = (1, 2, 3, 4, 5, 6, 7, 8, 9, 10)\n",
    "\n",
    "def mapper(function, lst):\n",
    "  ret = []\n",
    "  for i in lst:\n",
    "    ret.append(function(i))\n",
    "  return ret\n",
    "\n",
    "mapped_numbers  = mapper(lambda x: x*x, nums)\n",
    "\n",
    "print(tuple(mapped_numbers))"
   ]
  },
  {
   "cell_type": "markdown",
   "metadata": {},
   "source": [
    "Declarative code:"
   ]
  },
  {
   "cell_type": "code",
   "execution_count": 12,
   "metadata": {},
   "outputs": [
    {
     "name": "stdout",
     "output_type": "stream",
     "text": [
      "(1, 4, 9, 16, 25, 36, 49, 64, 81, 100)\n"
     ]
    }
   ],
   "source": [
    "numbers = (1, 2, 3, 4, 5, 6, 7, 8, 9, 10)\n",
    "\n",
    "mapped_numbers = map(lambda x: x*x, numbers) \n",
    "\n",
    "print(tuple(mapped_numbers))"
   ]
  },
  {
   "cell_type": "markdown",
   "metadata": {},
   "source": [
    "#### `reduce()`\n",
    "\n",
    "`reduce()` function is used to reduce a sequence of elements to a single value. It takes a function and a sequence as arguments and returns a single value."
   ]
  },
  {
   "cell_type": "markdown",
   "metadata": {},
   "source": [
    "Imperative code:"
   ]
  },
  {
   "cell_type": "code",
   "execution_count": 14,
   "metadata": {},
   "outputs": [
    {
     "name": "stdout",
     "output_type": "stream",
     "text": [
      "37\n"
     ]
    }
   ],
   "source": [
    "nums = (2, 6, 7, 9, 1, 4, 8)\n",
    "\n",
    "sum = 0\n",
    "\n",
    "for i in nums:\n",
    "  sum += i\n",
    "\n",
    "print(sum)"
   ]
  },
  {
   "cell_type": "markdown",
   "metadata": {},
   "source": [
    "Declarative code:"
   ]
  },
  {
   "cell_type": "code",
   "execution_count": 15,
   "metadata": {},
   "outputs": [
    {
     "name": "stdout",
     "output_type": "stream",
     "text": [
      "37\n"
     ]
    }
   ],
   "source": [
    "\"\"\"\n",
    "In Python 3, the `reduce()` function has been moved to the `functools` library,\n",
    "so we need to import it before we can use it.\n",
    "\"\"\"\n",
    "from functools import reduce\n",
    "\n",
    "nums = (2, 6, 7, 9, 1, 4, 8)\n",
    "\n",
    "reduced_nums = reduce(lambda x, y: x + y, nums) # reduced_nums is a number\n",
    "\n",
    "print(reduced_nums)"
   ]
  }
 ],
 "metadata": {
  "kernelspec": {
   "display_name": "Python 3",
   "language": "python",
   "name": "python3"
  },
  "language_info": {
   "codemirror_mode": {
    "name": "ipython",
    "version": 3
   },
   "file_extension": ".py",
   "mimetype": "text/x-python",
   "name": "python",
   "nbconvert_exporter": "python",
   "pygments_lexer": "ipython3",
   "version": "3.10.0"
  }
 },
 "nbformat": 4,
 "nbformat_minor": 2
}
