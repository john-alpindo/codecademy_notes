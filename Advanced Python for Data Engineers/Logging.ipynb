{
 "cells": [
  {
   "cell_type": "markdown",
   "metadata": {},
   "source": [
    "# Logging in Python"
   ]
  },
  {
   "cell_type": "markdown",
   "metadata": {},
   "source": [
    "## Creating a logger"
   ]
  },
  {
   "cell_type": "code",
   "execution_count": 1,
   "metadata": {},
   "outputs": [],
   "source": [
    "import logging"
   ]
  },
  {
   "cell_type": "markdown",
   "metadata": {},
   "source": [
    "### `logging.getLogger(name=None)`\n",
    "\n",
    "After importing the `logging` module, you can create a logger object using the `getLogger` method. The name of the logger is optional. If you don't provide a name, the logger will be named after the module where the logger is created."
   ]
  },
  {
   "cell_type": "code",
   "execution_count": 2,
   "metadata": {},
   "outputs": [],
   "source": [
    "logger = logging.getLogger(__name__)"
   ]
  },
  {
   "cell_type": "markdown",
   "metadata": {},
   "source": [
    "It is recommended to use the `__name__` variable as the name of the logger. This way, the logger will be named after the module where it is created."
   ]
  },
  {
   "cell_type": "markdown",
   "metadata": {},
   "source": [
    "### `logging.StreamHandler(stream=None)`\n",
    "\n",
    "Next we need to inform the logger where we want to send the log messages. This is done by creating a handler object and adding it to the logger."
   ]
  },
  {
   "cell_type": "code",
   "execution_count": null,
   "metadata": {},
   "outputs": [],
   "source": [
    "import sys\n",
    "stream_handler = logging.StreamHandler(sys.stdout)"
   ]
  },
  {
   "cell_type": "markdown",
   "metadata": {},
   "source": [
    "### `logging.addHandler(handler)`\n",
    "\n",
    "Finally, we add the handler to the logger."
   ]
  },
  {
   "cell_type": "code",
   "execution_count": null,
   "metadata": {},
   "outputs": [],
   "source": [
    "logger.addHandler(stream_handler)"
   ]
  },
  {
   "cell_type": "markdown",
   "metadata": {},
   "source": [
    "## Log Levels\n",
    "\n",
    "The `logging` module provides several log levels. The log levels are used to filter the log messages. The log levels are:\n",
    "\n",
    "| Level     | Value |\n",
    "|-----------|-------|\n",
    "| NOTSET    | 0     |\n",
    "| DEBUG     | 10    |\n",
    "| INFO      | 20    |\n",
    "| WARNING   | 30    |\n",
    "| ERROR     | 40    |\n",
    "| CRITICAL  | 50    |\n"
   ]
  },
  {
   "cell_type": "markdown",
   "metadata": {},
   "source": [
    "\n",
    "The `DEBUG` level is used for debugging purposes. It is the lowest level.\n",
    "\n",
    "The `INFO` level is used to inform the user about the progress of the application.\n",
    "\n",
    "The `WARNING` level is used to inform the user about potential problems that may occur.\n",
    "\n",
    "The `ERROR` level is used to inform the user about errors that occurred in the application.\n",
    "\n",
    "The `CRITICAL` level is used to inform the user about critical errors that occurred in the application."
   ]
  },
  {
   "cell_type": "markdown",
   "metadata": {},
   "source": [
    "## Logging Errors and Messages\n",
    "\n",
    "The `logging` module provides several methods to log messages. The methods are:\n",
    "\n",
    "| Method     | Description |\n",
    "|------------|-------------|\n",
    "| debug(msg)    | Log a message with level DEBUG |\n",
    "| info(msg)     | Log a message with level INFO |\n",
    "| warning(msg)  | Log a message with level WARNING |\n",
    "| error(msg)    | Log a message with level ERROR |\n",
    "| critical(msg) | Log a message with level CRITICAL |"
   ]
  },
  {
   "cell_type": "code",
   "execution_count": null,
   "metadata": {},
   "outputs": [],
   "source": [
    "logger.debug('This is a debug message')"
   ]
  },
  {
   "cell_type": "markdown",
   "metadata": {},
   "source": [
    "#### `.log(level, msg)`\n",
    "\n",
    "The logging methods are just shortcuts to the `log` method. The `log` method allows you to log messages with any level."
   ]
  },
  {
   "cell_type": "code",
   "execution_count": null,
   "metadata": {},
   "outputs": [],
   "source": [
    "logger.log(logging.DEBUG, 'This is a debug message')"
   ]
  },
  {
   "cell_type": "markdown",
   "metadata": {},
   "source": [
    "## Setting the Log Level\n",
    "\n",
    "The log level of the logger can be set using the `setLevel` method. The logger will only log messages with a level equal to or higher than the log level set."
   ]
  }
 ],
 "metadata": {
  "kernelspec": {
   "display_name": "Python 3",
   "language": "python",
   "name": "python3"
  },
  "language_info": {
   "codemirror_mode": {
    "name": "ipython",
    "version": 3
   },
   "file_extension": ".py",
   "mimetype": "text/x-python",
   "name": "python",
   "nbconvert_exporter": "python",
   "pygments_lexer": "ipython3",
   "version": "3.10.0"
  }
 },
 "nbformat": 4,
 "nbformat_minor": 2
}
