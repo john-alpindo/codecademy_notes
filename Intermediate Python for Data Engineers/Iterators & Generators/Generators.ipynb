{
 "cells": [
  {
   "cell_type": "markdown",
   "metadata": {},
   "source": [
    "# Generators"
   ]
  },
  {
   "cell_type": "markdown",
   "metadata": {},
   "source": [
    "## Introduction to Generators\n",
    "A generator allows for the creation of iterators in a more simple way than having to implement a class with the `__iter__` and `__next__` methods. A generator is a function that returns an iterator. It looks like a normal function except that it contains `yield` expressions for producing a series of values usable in a for loop or that can be retrieved one at a time with the `next()` function.\n",
    "\n",
    "### Types of Generators\n",
    "- **Generator Functions**: They are functions that return a generator iterator. They are defined like a normal function, but whenever they need to generate a value, they do so with the `yield` keyword rather than `return`.\n",
    "\n",
    "- **Generator Expressions**: They are a high-performance, memory-efficient generalization of list comprehensions and generators. They are similar to the lambda functions which create an anonymous function. The syntax for generator expression is similar to that of a list comprehension in Python. But the square brackets are replaced with round parentheses."
   ]
  },
  {
   "cell_type": "markdown",
   "metadata": {},
   "source": [
    "## Yield vs Return\n",
    "\n",
    "- `return` statement terminates a function entirely, and passes a value back to the caller.\n",
    "\n",
    "- `yield` statement pauses the function saving all its states and later continues from there on successive calls.\n"
   ]
  },
  {
   "cell_type": "code",
   "execution_count": 1,
   "metadata": {},
   "outputs": [
    {
     "name": "stdout",
     "output_type": "stream",
     "text": [
      "Computer Science\n",
      "Art\n",
      "Business\n"
     ]
    }
   ],
   "source": [
    "def course_generator():\n",
    "  yield 'Computer Science'\n",
    "  yield 'Art'\n",
    "  yield 'Business'\n",
    "\n",
    "courses = course_generator()\n",
    "for course in courses:\n",
    "    print(course)"
   ]
  },
  {
   "cell_type": "markdown",
   "metadata": {},
   "source": [
    "## `next()` and `StopIteration`\n",
    "\n",
    "Generator functions return a generator iterator that can be used to iterate over a sequence of values. When a generator function is called, it returns a generator object without even beginning execution of the function. When `next()` method is called for the first time, the function starts executing until it reaches the `yield` statement, which returns the yielded value. The `yield` keeps track i.e. remembers the last execution and the second `next()` call continues from previous value."
   ]
  },
  {
   "cell_type": "code",
   "execution_count": 2,
   "metadata": {},
   "outputs": [
    {
     "name": "stdout",
     "output_type": "stream",
     "text": [
      "Joan Stark gets prize B\n",
      "Billy Mars gets prize C\n",
      "Tori Rivers gets prize A\n",
      "Kyle Newman gets prize B\n"
     ]
    }
   ],
   "source": [
    "def prize_generator():\n",
    "  student_info = {\n",
    "    \"Joan Stark\": 355,\n",
    "    \"Billy Mars\": 45,\n",
    "    \"Tori Rivers\": 18,\n",
    "    \"Kyle Newman\": 25\n",
    "  }\n",
    "\n",
    "  for student in student_info:\n",
    "    name = student\n",
    "    id = student_info[name]\n",
    "    if id % 3 == 0 and id % 5 == 0:\n",
    "      yield student + \" gets prize C\"\n",
    "    elif id % 3 == 0:\n",
    "      yield student + \" gets prize A\"\n",
    "    elif id % 5 == 0:\n",
    "      yield student + \" gets prize B\"\n",
    "\n",
    "prizes = prize_generator()\n",
    "print(next(prizes))\n",
    "print(next(prizes))\n",
    "print(next(prizes))\n",
    "print(next(prizes))"
   ]
  },
  {
   "cell_type": "markdown",
   "metadata": {},
   "source": [
    "If we reach the end of a generator function and there is no `yield` statement, Python raises a `StopIteration` exception."
   ]
  },
  {
   "cell_type": "code",
   "execution_count": 3,
   "metadata": {},
   "outputs": [
    {
     "ename": "StopIteration",
     "evalue": "",
     "output_type": "error",
     "traceback": [
      "\u001b[0;31m---------------------------------------------------------------------------\u001b[0m",
      "\u001b[0;31mStopIteration\u001b[0m                             Traceback (most recent call last)",
      "Cell \u001b[0;32mIn[3], line 1\u001b[0m\n\u001b[0;32m----> 1\u001b[0m \u001b[38;5;28mprint\u001b[39m(\u001b[38;5;28;43mnext\u001b[39;49m\u001b[43m(\u001b[49m\u001b[43mprizes\u001b[49m\u001b[43m)\u001b[49m)\n",
      "\u001b[0;31mStopIteration\u001b[0m: "
     ]
    }
   ],
   "source": [
    "print(next(prizes))"
   ]
  },
  {
   "cell_type": "markdown",
   "metadata": {},
   "source": [
    "## Generator Expressions\n",
    "Generator expressions are similar to list comprehensions, but they return an iterator instead of a list. The syntax for generator expression is similar to that of a list comprehension in Python. But the square brackets are replaced with round parentheses.\n"
   ]
  },
  {
   "cell_type": "code",
   "execution_count": 4,
   "metadata": {},
   "outputs": [
    {
     "name": "stdout",
     "output_type": "stream",
     "text": [
      "[0, 1, 4, 9]\n",
      "<generator object <genexpr> at 0x104606960>\n"
     ]
    }
   ],
   "source": [
    "# List comprehension\n",
    "a_list = [i*i for i in range(4)]\n",
    "\n",
    "# Generator comprehension\n",
    "a_generator = (i*i for i in range(4))\n",
    "\n",
    "print(a_list)\n",
    "print(a_generator)"
   ]
  },
  {
   "cell_type": "markdown",
   "metadata": {},
   "source": [
    "Since the generator expressions return an iterator, they are more memory efficient than list comprehensions. They are preferred when the list is very large or when the generator is used only once."
   ]
  },
  {
   "cell_type": "code",
   "execution_count": 5,
   "metadata": {},
   "outputs": [
    {
     "name": "stdout",
     "output_type": "stream",
     "text": [
      "0\n",
      "1\n",
      "4\n",
      "9\n"
     ]
    }
   ],
   "source": [
    "for i in a_generator:\n",
    "    print(i)"
   ]
  },
  {
   "cell_type": "markdown",
   "metadata": {},
   "source": [
    "## Generator Methods: `send()`\n",
    "The `send()` method is used to send a value back to the generator function. The `send()` method resumes the execution of the generator function and sends a value that can be used to return a value back to the caller."
   ]
  },
  {
   "cell_type": "code",
   "execution_count": 6,
   "metadata": {},
   "outputs": [
    {
     "name": "stdout",
     "output_type": "stream",
     "text": [
      "None\n",
      "3\n",
      "None\n"
     ]
    }
   ],
   "source": [
    "def count_generator():\n",
    "  while True:\n",
    "    n = yield\n",
    "    print(n)\n",
    "\n",
    "my_generator = count_generator()\n",
    "next(my_generator) # 1st Iteration Output: \n",
    "next(my_generator) # 2nd Iteration Output: None\n",
    "my_generator.send(3) # 3rd Iteration Output: 3\n",
    "next(my_generator) # 4th Iteration Output: None"
   ]
  },
  {
   "cell_type": "markdown",
   "metadata": {},
   "source": [
    "The 1st iteration creates no output as the generator function is paused at the first `yield` statement."
   ]
  },
  {
   "cell_type": "markdown",
   "metadata": {},
   "source": [
    "The `.send()` method can control the value of the generator when a second variable is introduced in the generator function. One variable is used to holds the value of the generator and the other variable is used to send a value back to the generator function."
   ]
  },
  {
   "cell_type": "code",
   "execution_count": 7,
   "metadata": {},
   "outputs": [
    {
     "name": "stdout",
     "output_type": "stream",
     "text": [
      "0\n",
      "1\n",
      "4\n",
      "5\n"
     ]
    }
   ],
   "source": [
    "def generator():\n",
    "  count = 0\n",
    "  while True:\n",
    "    n = yield count\n",
    "    if n is not None:\n",
    "      count = n\n",
    "    count += 1\n",
    "\n",
    "my_generator = generator()\n",
    "print(next(my_generator)) # Output: 0\n",
    "print(next(my_generator)) # Output: 1\n",
    "print(my_generator.send(3)) # Output: 4\n",
    "print(next(my_generator)) # Output: 5"
   ]
  },
  {
   "cell_type": "markdown",
   "metadata": {},
   "source": [
    "## Generator Methods: `throw()`\n",
    "The `throw()` method is used to raise an exception inside the generator function. The `throw()` method resumes the execution of the generator function and raises an exception at the place where the generator function was paused.\n"
   ]
  },
  {
   "cell_type": "code",
   "execution_count": 8,
   "metadata": {},
   "outputs": [
    {
     "ename": "ValueError",
     "evalue": "Bad value given",
     "output_type": "error",
     "traceback": [
      "\u001b[0;31m---------------------------------------------------------------------------\u001b[0m",
      "\u001b[0;31mValueError\u001b[0m                                Traceback (most recent call last)",
      "Cell \u001b[0;32mIn[8], line 10\u001b[0m\n\u001b[1;32m      8\u001b[0m \u001b[38;5;28;01mfor\u001b[39;00m item \u001b[38;5;129;01min\u001b[39;00m my_generator:\n\u001b[1;32m      9\u001b[0m     \u001b[38;5;28;01mif\u001b[39;00m item \u001b[38;5;241m==\u001b[39m \u001b[38;5;241m3\u001b[39m:\n\u001b[0;32m---> 10\u001b[0m         \u001b[43mmy_generator\u001b[49m\u001b[38;5;241;43m.\u001b[39;49m\u001b[43mthrow\u001b[49m\u001b[43m(\u001b[49m\u001b[38;5;167;43;01mValueError\u001b[39;49;00m\u001b[43m,\u001b[49m\u001b[43m \u001b[49m\u001b[38;5;124;43m\"\u001b[39;49m\u001b[38;5;124;43mBad value given\u001b[39;49m\u001b[38;5;124;43m\"\u001b[39;49m\u001b[43m)\u001b[49m\n",
      "Cell \u001b[0;32mIn[8], line 4\u001b[0m, in \u001b[0;36mgenerator\u001b[0;34m()\u001b[0m\n\u001b[1;32m      2\u001b[0m i \u001b[38;5;241m=\u001b[39m \u001b[38;5;241m0\u001b[39m\n\u001b[1;32m      3\u001b[0m \u001b[38;5;28;01mwhile\u001b[39;00m \u001b[38;5;28;01mTrue\u001b[39;00m:\n\u001b[0;32m----> 4\u001b[0m   \u001b[38;5;28;01myield\u001b[39;00m i\n\u001b[1;32m      5\u001b[0m   i \u001b[38;5;241m+\u001b[39m\u001b[38;5;241m=\u001b[39m \u001b[38;5;241m1\u001b[39m\n",
      "\u001b[0;31mValueError\u001b[0m: Bad value given"
     ]
    }
   ],
   "source": [
    "def generator():\n",
    "  i = 0\n",
    "  while True:\n",
    "    yield i\n",
    "    i += 1\n",
    "\n",
    "my_generator = generator()\n",
    "for item in my_generator:\n",
    "    if item == 3:\n",
    "        my_generator.throw(ValueError, \"Bad value given\")"
   ]
  },
  {
   "cell_type": "markdown",
   "metadata": {},
   "source": [
    "## Generator Methods: `close()`\n",
    "\n",
    "The `close()` method is used to stop a generator function. Any further calls to the generator function will raise a `StopIteration` exception.\n"
   ]
  },
  {
   "cell_type": "code",
   "execution_count": 9,
   "metadata": {},
   "outputs": [
    {
     "ename": "StopIteration",
     "evalue": "",
     "output_type": "error",
     "traceback": [
      "\u001b[0;31m---------------------------------------------------------------------------\u001b[0m",
      "\u001b[0;31mStopIteration\u001b[0m                             Traceback (most recent call last)",
      "Cell \u001b[0;32mIn[9], line 11\u001b[0m\n\u001b[1;32m      9\u001b[0m \u001b[38;5;28mnext\u001b[39m(my_generator)\n\u001b[1;32m     10\u001b[0m my_generator\u001b[38;5;241m.\u001b[39mclose()\n\u001b[0;32m---> 11\u001b[0m \u001b[38;5;28;43mnext\u001b[39;49m\u001b[43m(\u001b[49m\u001b[43mmy_generator\u001b[49m\u001b[43m)\u001b[49m \u001b[38;5;66;03m# raises StopIteration exception\u001b[39;00m\n",
      "\u001b[0;31mStopIteration\u001b[0m: "
     ]
    }
   ],
   "source": [
    "def generator():\n",
    "  i = 0\n",
    "  while True:\n",
    "    yield i\n",
    "    i += 1\n",
    "\n",
    "my_generator = generator()\n",
    "next(my_generator)\n",
    "next(my_generator)\n",
    "my_generator.close()\n",
    "next(my_generator) # raises StopIteration exception"
   ]
  },
  {
   "cell_type": "markdown",
   "metadata": {},
   "source": [
    "---\n",
    "\n",
    "The `close()` method works by raising a `GeneratorExit` exception inside the generator function. This exception can be caught by the generator function and used to clean up resources or release locks."
   ]
  },
  {
   "cell_type": "code",
   "execution_count": 10,
   "metadata": {},
   "outputs": [
    {
     "name": "stdout",
     "output_type": "stream",
     "text": [
      "0\n",
      "1\n",
      "Early exit, BYE!\n"
     ]
    }
   ],
   "source": [
    "def generator():\n",
    "  i = 0\n",
    "  while True:\n",
    "    try:\n",
    "      yield i\n",
    "    except GeneratorExit:\n",
    "      print(\"Early exit, BYE!\")\n",
    "      break\n",
    "    i += 1\n",
    "\n",
    "my_generator = generator()\n",
    "for item in my_generator:\n",
    "  print(item)\n",
    "  if item == 1:\n",
    "    my_generator.close()"
   ]
  },
  {
   "cell_type": "markdown",
   "metadata": {},
   "source": [
    "Because we iterrupted the automatic behavior of the `.close()` method, we must also use a `break` statement to stop the iteration."
   ]
  },
  {
   "cell_type": "markdown",
   "metadata": {},
   "source": [
    "## Connecting Generators\n",
    "`yield from` is used to delegate part of the work to another generator. It allows to yield values from another generator in a more compact and readable way."
   ]
  },
  {
   "cell_type": "code",
   "execution_count": 11,
   "metadata": {},
   "outputs": [
    {
     "name": "stdout",
     "output_type": "stream",
     "text": [
      "Computer Science\n",
      "Artificial Intelligence\n",
      "Intro to Art\n",
      "Selecting Mediums\n"
     ]
    }
   ],
   "source": [
    "def cs_courses():\n",
    "    yield 'Computer Science'\n",
    "    yield 'Artificial Intelligence'\n",
    "\n",
    "def art_courses():\n",
    "    yield 'Intro to Art'\n",
    "    yield 'Selecting Mediums'\n",
    "\n",
    "\n",
    "def all_courses():\n",
    "    yield from cs_courses()\n",
    "    yield from art_courses()\n",
    "\n",
    "combined_generator = all_courses()\n",
    "\n",
    "print(next(combined_generator))\n",
    "print(next(combined_generator))\n",
    "print(next(combined_generator))\n",
    "print(next(combined_generator))"
   ]
  },
  {
   "cell_type": "markdown",
   "metadata": {},
   "source": [
    "## Generator Pipelines\n",
    "Generators can be used to create pipelines where the output of one generator is fed to another generator. This is a memory-efficient way to process data streams."
   ]
  },
  {
   "cell_type": "code",
   "execution_count": 12,
   "metadata": {},
   "outputs": [
    {
     "name": "stdout",
     "output_type": "stream",
     "text": [
      "0\n",
      "2\n",
      "4\n",
      "6\n",
      "8\n",
      "10\n"
     ]
    }
   ],
   "source": [
    "def number_generator():\n",
    "  i = 0\n",
    "  while True:\n",
    "    yield i\n",
    "    i += 1\n",
    "    \n",
    "def even_number_generator(numbers):\n",
    "  for n in numbers:\n",
    "    if n % 2 == 0:\n",
    "      yield n\n",
    "\n",
    "even_numbers = even_number_generator(number_generator())\n",
    "\n",
    "for e in even_numbers:\n",
    "  print(e)\n",
    "  if e == 10:\n",
    "    break"
   ]
  },
  {
   "cell_type": "code",
   "execution_count": 13,
   "metadata": {},
   "outputs": [
    {
     "name": "stdout",
     "output_type": "stream",
     "text": [
      "('Computer Science', 10)\n",
      "('Art', 15)\n",
      "('Business', 20)\n"
     ]
    }
   ],
   "source": [
    "def course_generator():\n",
    "  yield (\"Computer Science\", 5)\n",
    "  yield (\"Art\", 10)\n",
    "  yield (\"Business\", 15)\n",
    "\n",
    "def add_five_students(courses):\n",
    "  for course in courses:\n",
    "    yield (course[0], course[1] + 5)\n",
    "\n",
    "for e in add_five_students(course_generator()):\n",
    "   print(e)"
   ]
  }
 ],
 "metadata": {
  "kernelspec": {
   "display_name": "Python 3",
   "language": "python",
   "name": "python3"
  },
  "language_info": {
   "codemirror_mode": {
    "name": "ipython",
    "version": 3
   },
   "file_extension": ".py",
   "mimetype": "text/x-python",
   "name": "python",
   "nbconvert_exporter": "python",
   "pygments_lexer": "ipython3",
   "version": "3.10.0"
  }
 },
 "nbformat": 4,
 "nbformat_minor": 2
}
