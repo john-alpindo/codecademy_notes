{
 "cells": [
  {
   "cell_type": "markdown",
   "metadata": {},
   "source": [
    "# Iterables & Iterators"
   ]
  },
  {
   "cell_type": "markdown",
   "metadata": {},
   "source": [
    "## Introduction to Iterables\n",
    "An iterable is any Python object capable of returning its members one at a time, permitting it to be iterated over in a `for` loop. Familiar examples of iterables include lists, tuples, and strings."
   ]
  },
  {
   "cell_type": "code",
   "execution_count": 1,
   "metadata": {},
   "outputs": [
    {
     "name": "stdout",
     "output_type": "stream",
     "text": [
      "Great Dane Foods has 4 bags\n",
      "Min Pin Pup Foods has 10 bags\n",
      "Pawsome Pups Foods has 8 bags\n"
     ]
    }
   ],
   "source": [
    "dog_foods = {\n",
    "    \"Great Dane Foods\": 4,\n",
    "    \"Min Pin Pup Foods\": 10,\n",
    "    \"Pawsome Pups Foods\": 8\n",
    "}\n",
    "\n",
    "for food_brand in dog_foods:\n",
    "    print(food_brand + \" has \" + str(dog_foods[food_brand]) + \" bags\")"
   ]
  },
  {
   "cell_type": "markdown",
   "metadata": {},
   "source": [
    "## Iterator Objects\n",
    "\n",
    "### `iter()`\n",
    "Under the hood, the `iter()` function is called on an iterable to return an iterator object. This object is used to traverse the iterable's elements one at a time.\n",
    "\n",
    "```python\n",
    "dog_food_iterator = iter(dog_foods)\n",
    "```\n",
    "\n",
    "### `__iter__()`\n",
    "`iter(dog_foods)` is actually calling the `__iter__()` method on the `dog_foods` object. All iterables must implement this method, which returns an iterator object.\n",
    "\n",
    "In summary, `iter(dog_foods)` will retrieve an iterator object from the `dog_foods` iterable by calling its `__iter__()` method.\n",
    "\n",
    "### `__next__()`\n",
    "The iterator object returned by `iter()` has a `__next__()` method that is used to retrieve the next element from the iterable. When all elements have been exhausted, a `StopIteration` exception is raised.\n",
    "\n",
    "```python\n",
    "sku_list = [7046538, 8289407, 9056375, 2308597]\n",
    "sku_iterator = iter(sku_list)\n",
    "next_sku = sku_iterator.__next__()\n",
    "print(next_sku)\n",
    "```\n",
    "This code will output `7046538`.\n",
    "\n",
    "### `next()`\n",
    "\n",
    "Similar to `iter()`, `next()` is a built-in function that calls the `__next__()` method on an iterator object.\n",
    "\n",
    "```python\n",
    "sku_list = [7046538, 8289407, 9056375, 2308597]\n",
    "sku_iterator = iter(sku_list)\n",
    "next_sku = next(sku_iterator)\n",
    "print(next_sku)\n",
    "```\n",
    "This code will output `7046538`."
   ]
  },
  {
   "cell_type": "markdown",
   "metadata": {},
   "source": [
    "## Custom Iterators\n",
    "\n",
    "```python\n",
    "class FishInventory:\n",
    "  def __init__(self, fishList):\n",
    "      self.available_fish = fishList\n",
    "```\n",
    "\n",
    "To enable iteration over the `FishInventory` class object, the `__iter__()` and `__next__()` methods must be implemented.\n",
    "\n",
    "```python\n",
    "class FishInventory:\n",
    "  def __init__(self, fishList):\n",
    "      self.available_fish = fishList\n",
    "\n",
    "  def __iter__(self):\n",
    "      self.index = 0\n",
    "      return self\n",
    "\n",
    "  def __next__(self):\n",
    "      if self.index < len(self.available_fish):\n",
    "          fish_status = self.available_fish[self.index] + \" is available!\"\n",
    "          self.index += 1\n",
    "          return fish_status\n",
    "      else:\n",
    "          raise StopIteration\n",
    "```"
   ]
  },
  {
   "cell_type": "markdown",
   "metadata": {},
   "source": [
    "## Python's Built-in Iterators: `itertools`\n",
    "\n",
    "The `itertools` module provides a collection of fast, memory-efficient tools for working with iterators.\n",
    "\n",
    "There are three main types of iterators:\n",
    "- `Infinite iterators`: This type of iterator will continue indefinitely and will not raise a `StopIteration` exception and will need to be manually stopped.\n",
    "\n",
    "- `Finite iterators`: This type of iterator will stop after a certain number of elements have been generated.\n",
    "\n",
    "- `Combinatoric iterators`: This type of iterator are combinational, where mathematical are applied to the input iterables.\n",
    "\n",
    "Python Documentation: [itertools](https://docs.python.org/3/library/itertools.html)"
   ]
  },
  {
   "cell_type": "markdown",
   "metadata": {},
   "source": [
    "## Infinite Iterator: Count\n",
    "\n",
    "The `count(start, [step])` function returns an infinite iterator that generates numbers starting from a specified value.\n",
    "\n",
    "```python\n",
    "import itertools\n",
    "\n",
    "for i in itertools.count(start=0, step=2):\n",
    "  print(i)\n",
    "  if i >= 20:\n",
    "    break\n",
    "```\n"
   ]
  },
  {
   "cell_type": "markdown",
   "metadata": {},
   "source": [
    "## Input-Dependent Iterator: Chain\n",
    "\n",
    "The `chain(*iterables)` function returns an iterator that combines multiple iterables into a single sequence. It will terminate once all iterables have been exhausted."
   ]
  },
  {
   "cell_type": "code",
   "execution_count": 5,
   "metadata": {},
   "outputs": [
    {
     "name": "stdout",
     "output_type": "stream",
     "text": [
      "5\n",
      "7\n",
      "9\n",
      "8\n",
      "10\n",
      "6\n"
     ]
    }
   ],
   "source": [
    "import itertools\n",
    "\n",
    "odd = [5, 7, 9]\n",
    "even = {6, 8, 10}\n",
    "\n",
    "all_numbers = itertools.chain(odd, even)\n",
    "\n",
    "for number in all_numbers:\n",
    "  print(number)"
   ]
  },
  {
   "cell_type": "markdown",
   "metadata": {},
   "source": [
    "Note that Python `sets` are unordered, so the order of elements in the output may not always be in the initialized order."
   ]
  }
 ],
 "metadata": {
  "kernelspec": {
   "display_name": "Python 3",
   "language": "python",
   "name": "python3"
  },
  "language_info": {
   "codemirror_mode": {
    "name": "ipython",
    "version": 3
   },
   "file_extension": ".py",
   "mimetype": "text/x-python",
   "name": "python",
   "nbconvert_exporter": "python",
   "pygments_lexer": "ipython3",
   "version": "3.10.0"
  }
 },
 "nbformat": 4,
 "nbformat_minor": 2
}
