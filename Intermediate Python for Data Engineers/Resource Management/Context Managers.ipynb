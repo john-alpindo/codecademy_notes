{
 "cells": [
  {
   "cell_type": "markdown",
   "metadata": {},
   "source": [
    "# Context Managers"
   ]
  },
  {
   "cell_type": "markdown",
   "metadata": {},
   "source": [
    "## The `with` statement\n",
    "\n",
    "The `with` statement simplifies exception handling by encapsulating common preparation and cleanup tasks in so-called context managers. The `with` statement is used to wrap the execution of a block with methods defined by a context manager. Context managers are defined by implementing two special methods: `__enter__()` and `__exit__()`."
   ]
  },
  {
   "cell_type": "code",
   "execution_count": null,
   "metadata": {},
   "outputs": [],
   "source": [
    "with open(\"file_name.txt\", \"w\") as file:\n",
    "   file.write(\"How you gonna win when you ain't right within?\")"
   ]
  },
  {
   "cell_type": "markdown",
   "metadata": {},
   "source": [
    "## Class Based Context Managers\n",
    "\n",
    "A class based context manager is a class that implements `__enter__()` and `__exit__()` methods. The `__enter__()` method is called when the `with` block is entered, and the `__exit__()` method is called when the `with` block is exited."
   ]
  },
  {
   "cell_type": "code",
   "execution_count": 1,
   "metadata": {},
   "outputs": [
    {
     "name": "stdout",
     "output_type": "stream",
     "text": [
      "Initializing class...\n",
      "Entering context...\n",
      "Code inside with statement\n",
      "Exiting context...\n"
     ]
    }
   ],
   "source": [
    "class ContextManager:\n",
    "  def __init__(self):\n",
    "    print('Initializing class...')\n",
    " \n",
    "  def __enter__(self):\n",
    "    print('Entering context...')\n",
    " \n",
    "  def __exit__(self, *exc):\n",
    "    print('Exiting context...')\n",
    "\n",
    "with ContextManager() as cm:\n",
    "  print('Code inside with statement')"
   ]
  },
  {
   "cell_type": "markdown",
   "metadata": {},
   "source": [
    "## Class Based Context Manager II"
   ]
  },
  {
   "cell_type": "code",
   "execution_count": null,
   "metadata": {},
   "outputs": [],
   "source": [
    "class WorkWithFile:\n",
    "  def __init__(self, file, mode):\n",
    "    self.file = file\n",
    "    self.mode = mode\n",
    " \n",
    "  def __enter__(self):\n",
    "    self.opened_file = open(self.file, self.mode)\n",
    "    return self.opened_file\n",
    " \n",
    "  def __exit__(self, *exc):\n",
    "    self.opened_file.close()\n",
    "\n",
    "with WorkWithFile(\"file.txt\", \"r\") as file:\n",
    "  print(file.read())"
   ]
  },
  {
   "cell_type": "markdown",
   "metadata": {},
   "source": [
    "## Handling Exceptions I\n",
    "\n",
    "When an exception is thrown in the `with` block, the `__exit__()` method is called with three arguments: the exception type, the exception value, and the traceback. If the `__exit__()` method returns `True`, the exception is suppressed. If it returns `False`, the exception is re-raised."
   ]
  },
  {
   "cell_type": "code",
   "execution_count": 2,
   "metadata": {},
   "outputs": [
    {
     "name": "stdout",
     "output_type": "stream",
     "text": [
      "<class 'AttributeError'>\n",
      "'_io.TextIOWrapper' object has no attribute 'see'\n",
      "<traceback object at 0x1047eb800>\n"
     ]
    },
    {
     "ename": "AttributeError",
     "evalue": "'_io.TextIOWrapper' object has no attribute 'see'",
     "output_type": "error",
     "traceback": [
      "\u001b[0;31m---------------------------------------------------------------------------\u001b[0m",
      "\u001b[0;31mAttributeError\u001b[0m                            Traceback (most recent call last)",
      "Cell \u001b[0;32mIn[2], line 19\u001b[0m\n\u001b[1;32m     15\u001b[0m    \u001b[38;5;28mself\u001b[39m\u001b[38;5;241m.\u001b[39mopened_file\u001b[38;5;241m.\u001b[39mclose()\n\u001b[1;32m     17\u001b[0m \u001b[38;5;28;01mwith\u001b[39;00m OpenFile(\u001b[38;5;124m\"\u001b[39m\u001b[38;5;124mfile.txt\u001b[39m\u001b[38;5;124m\"\u001b[39m, \u001b[38;5;124m\"\u001b[39m\u001b[38;5;124mr\u001b[39m\u001b[38;5;124m\"\u001b[39m) \u001b[38;5;28;01mas\u001b[39;00m file:\n\u001b[1;32m     18\u001b[0m   \u001b[38;5;66;03m# .see() is not a real method\u001b[39;00m\n\u001b[0;32m---> 19\u001b[0m   \u001b[38;5;28mprint\u001b[39m(\u001b[43mfile\u001b[49m\u001b[38;5;241;43m.\u001b[39;49m\u001b[43msee\u001b[49m())\n",
      "\u001b[0;31mAttributeError\u001b[0m: '_io.TextIOWrapper' object has no attribute 'see'"
     ]
    }
   ],
   "source": [
    "class OpenFile:\n",
    " \n",
    " def __init__(self, file, mode):\n",
    "   self.file = file\n",
    "   self.mode = mode\n",
    "\n",
    " def __enter__(self):\n",
    "   self.opened_file = open(self.file, self.mode)\n",
    "   return self.opened_file\n",
    " \n",
    " def __exit__(self, exc_type, exc_val, traceback):\n",
    "   print(exc_type)\n",
    "   print(exc_val)\n",
    "   print(traceback)\n",
    "   self.opened_file.close()\n",
    "\n",
    "with OpenFile(\"file.txt\", \"r\") as file:\n",
    "  # .see() is not a real method\n",
    "  print(file.see())"
   ]
  },
  {
   "cell_type": "markdown",
   "metadata": {},
   "source": [
    "## Handling Exceptions II\n",
    "\n",
    "An exception that occurs in a context manager can be handled in two ways:\n",
    "\n",
    "- if we want to throw the exception, we can return `False` from the `__exit__()` method.\n",
    "- if we want to suppress the exception, we can return `True` from the `__exit__()` method."
   ]
  },
  {
   "cell_type": "code",
   "execution_count": 9,
   "metadata": {},
   "outputs": [],
   "source": [
    "class OpenFile:\n",
    " \n",
    "  def __init__(self, file, mode):\n",
    "    self.file = file\n",
    "    self.mode = mode\n",
    " \n",
    "  def __enter__(self):\n",
    "    self.opened_file = open(self.file, self.mode)\n",
    "    return self.opened_file\n",
    " \n",
    "  def __exit__(self, exc_type, exc_val, traceback):\n",
    "    print(exc_type, exc_val, traceback)\n",
    "    print(\"The exception has been handled\")\n",
    "    self.opened_file.close()\n",
    "    return True\n"
   ]
  },
  {
   "cell_type": "code",
   "execution_count": 10,
   "metadata": {},
   "outputs": [
    {
     "name": "stdout",
     "output_type": "stream",
     "text": [
      "<class 'AttributeError'> '_io.TextIOWrapper' object has no attribute 'see' <traceback object at 0x10b94ab00>\n",
      "The exception has been handled\n",
      "foobar\n",
      "None None None\n",
      "The exception has been handled\n"
     ]
    }
   ],
   "source": [
    "with OpenFile(\"file.txt\", \"r\") as file:\n",
    "  # .see() is not a real method\n",
    "  print(file.see())\n",
    "\n",
    "with OpenFile(\"file.txt\", \"r\") as file:\n",
    "    print(file.read())"
   ]
  },
  {
   "cell_type": "markdown",
   "metadata": {},
   "source": [
    "Since the `__exit__()` returns `True` in the example, the exception is suppressed. The second `with` statement and `print()` statement is executed, and the program continues."
   ]
  },
  {
   "cell_type": "markdown",
   "metadata": {},
   "source": [
    "Additionally, we can choose to handle the exception in the `__exit__()` method."
   ]
  },
  {
   "cell_type": "code",
   "execution_count": null,
   "metadata": {},
   "outputs": [],
   "source": [
    "class OpenFile:\n",
    " \n",
    "  def __init__(self, file, mode):\n",
    "    self.file = file\n",
    "    self.mode = mode\n",
    " \n",
    "  def __enter__(self):\n",
    "    self.opened_file = open(self.file, self.mode)\n",
    "    return self.opened_file\n",
    " \n",
    "  def __exit__(self, exc_type, exc_val, traceback):\n",
    "    self.file.close()\n",
    "    if isinstance(exc_val, TypeError):\n",
    "      # Handle TypeError here...\n",
    "      print(\"The exception has been handled\")\n",
    "      return True"
   ]
  },
  {
   "cell_type": "markdown",
   "metadata": {},
   "source": [
    "An `if` statement is used to check if an exception occurred. If an exception occurred, the exception is printed, and the method returns `True`."
   ]
  },
  {
   "cell_type": "markdown",
   "metadata": {},
   "source": [
    "## Introduction to Contextlib\n",
    "\n",
    "The `contextlib` module provides utilities for common tasks involving the `with` statement. The `contextlib` module includes a decorator and context manager that can be used to create simple context managers.\n",
    "\n",
    "Documentation: https://docs.python.org/3/library/contextlib.html"
   ]
  },
  {
   "cell_type": "code",
   "execution_count": 1,
   "metadata": {},
   "outputs": [],
   "source": [
    "from contextlib import contextmanager\n",
    "\n",
    "@contextmanager\n",
    "def open_file_contextlib(file, mode):\n",
    "    opened_file = open(file, mode)\n",
    "    try:\n",
    "        yield opened_file\n",
    "    finally:\n",
    "        opened_file.close()"
   ]
  },
  {
   "cell_type": "markdown",
   "metadata": {},
   "source": [
    "```python\n",
    "@contextmanager\n",
    "def generator_function(<parameters>):\n",
    "    <setup section - equivalent to __enter__ >\n",
    "    try:\n",
    "        yield <value>\n",
    "    finally:\n",
    "        <cleanup section - equivalent to __exit__ >\n",
    "```"
   ]
  },
  {
   "cell_type": "code",
   "execution_count": 2,
   "metadata": {},
   "outputs": [],
   "source": [
    "with open_file_contextlib('file.txt', 'w') as opened_file:\n",
    "    opened_file.write('We just made a context manager using contexlib')"
   ]
  },
  {
   "cell_type": "markdown",
   "metadata": {},
   "source": [
    "## Contextlib Error Handling\n",
    "\n",
    "There are two ways to handle exceptions in the `contextlib` module:\n",
    "- do nothing by excluding the `except` block\n",
    "- handle the exception by including the `except` block"
   ]
  },
  {
   "cell_type": "code",
   "execution_count": 3,
   "metadata": {},
   "outputs": [
    {
     "name": "stdout",
     "output_type": "stream",
     "text": [
      "We hit an error: '_io.TextIOWrapper' object has no attribute 'sign'\n"
     ]
    }
   ],
   "source": [
    "from contextlib import contextmanager\n",
    "\n",
    "@contextmanager\n",
    "def open_file_contextlib(file, mode):\n",
    "    open_file = open(file, mode)\n",
    " \n",
    "    try:\n",
    "        yield open_file\n",
    "    # Exception Handling\n",
    "    except Exception as exception:\n",
    "        print('We hit an error: ' + str(exception))\n",
    "    finally:\n",
    "        open_file.close()\n",
    " \n",
    "with open_file_contextlib('file.txt', 'w') as opened_file:\n",
    "    opened_file.sign('We just made a context manager using contexlib')"
   ]
  },
  {
   "cell_type": "markdown",
   "metadata": {},
   "source": [
    "## Nested Context Managers\n",
    "\n",
    "- work with information from multiple files\n",
    "- copy the same information to multiple files\n",
    "- copy information from one file to another"
   ]
  },
  {
   "cell_type": "markdown",
   "metadata": {},
   "source": [
    "In this example, we open two files, `teacher.txt` and `student.txt`, and copy the contents of `student.txt` to `teacher.txt`."
   ]
  },
  {
   "cell_type": "code",
   "execution_count": null,
   "metadata": {},
   "outputs": [],
   "source": [
    "with open('teacher.txt', 'w') as teacher, open('student.txt', 'r') as student:\n",
    " teacher.write(student.read())"
   ]
  },
  {
   "cell_type": "markdown",
   "metadata": {},
   "source": [
    "- The `with` statement is being called once but is being used to open two files.\n",
    "- Each file is opened in a separate context manager.\n",
    "- Each file has different modes."
   ]
  },
  {
   "cell_type": "markdown",
   "metadata": {},
   "source": [
    "We can also write the code using nested `with` statements."
   ]
  },
  {
   "cell_type": "code",
   "execution_count": null,
   "metadata": {},
   "outputs": [],
   "source": [
    "with open(\"teacher.txt\", \"w\") as teacher:\n",
    "   with open(\"student.txt\", \"r\") as student:\n",
    "     teacher.write(student.read())"
   ]
  },
  {
   "cell_type": "markdown",
   "metadata": {},
   "source": [
    "- The `with` statement is called twice.\n",
    "- Though slightly longer, this method is more readable."
   ]
  }
 ],
 "metadata": {
  "kernelspec": {
   "display_name": "Python 3",
   "language": "python",
   "name": "python3"
  },
  "language_info": {
   "codemirror_mode": {
    "name": "ipython",
    "version": 3
   },
   "file_extension": ".py",
   "mimetype": "text/x-python",
   "name": "python",
   "nbconvert_exporter": "python",
   "pygments_lexer": "ipython3",
   "version": "3.10.0"
  }
 },
 "nbformat": 4,
 "nbformat_minor": 2
}
