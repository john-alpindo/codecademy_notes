{
 "cells": [
  {
   "cell_type": "markdown",
   "metadata": {},
   "source": [
    "# Context Managers"
   ]
  },
  {
   "cell_type": "markdown",
   "metadata": {},
   "source": [
    "## The `with` statement\n",
    "\n",
    "The `with` statement simplifies exception handling by encapsulating common preparation and cleanup tasks in so-called context managers. The `with` statement is used to wrap the execution of a block with methods defined by a context manager. Context managers are defined by implementing two special methods: `__enter__()` and `__exit__()`."
   ]
  },
  {
   "cell_type": "code",
   "execution_count": null,
   "metadata": {},
   "outputs": [],
   "source": [
    "with open(\"file_name.txt\", \"w\") as file:\n",
    "   file.write(\"How you gonna win when you ain't right within?\")"
   ]
  },
  {
   "cell_type": "markdown",
   "metadata": {},
   "source": [
    "## Class Based Context Managers\n",
    "\n",
    "A class based context manager is a class that implements `__enter__()` and `__exit__()` methods. The `__enter__()` method is called when the `with` block is entered, and the `__exit__()` method is called when the `with` block is exited."
   ]
  },
  {
   "cell_type": "code",
   "execution_count": 1,
   "metadata": {},
   "outputs": [
    {
     "name": "stdout",
     "output_type": "stream",
     "text": [
      "Initializing class...\n",
      "Entering context...\n",
      "Code inside with statement\n",
      "Exiting context...\n"
     ]
    }
   ],
   "source": [
    "class ContextManager:\n",
    "  def __init__(self):\n",
    "    print('Initializing class...')\n",
    " \n",
    "  def __enter__(self):\n",
    "    print('Entering context...')\n",
    " \n",
    "  def __exit__(self, *exc):\n",
    "    print('Exiting context...')\n",
    "\n",
    "with ContextManager() as cm:\n",
    "  print('Code inside with statement')"
   ]
  },
  {
   "cell_type": "markdown",
   "metadata": {},
   "source": [
    "## Class Based Context Manager II"
   ]
  },
  {
   "cell_type": "code",
   "execution_count": null,
   "metadata": {},
   "outputs": [],
   "source": [
    "class WorkWithFile:\n",
    "  def __init__(self, file, mode):\n",
    "    self.file = file\n",
    "    self.mode = mode\n",
    " \n",
    "  def __enter__(self):\n",
    "    self.opened_file = open(self.file, self.mode)\n",
    "    return self.opened_file\n",
    " \n",
    "  def __exit__(self, *exc):\n",
    "    self.opened_file.close()\n",
    "\n",
    "with WorkWithFile(\"file.txt\", \"r\") as file:\n",
    "  print(file.read())"
   ]
  }
 ],
 "metadata": {
  "kernelspec": {
   "display_name": "Python 3",
   "language": "python",
   "name": "python3"
  },
  "language_info": {
   "codemirror_mode": {
    "name": "ipython",
    "version": 3
   },
   "file_extension": ".py",
   "mimetype": "text/x-python",
   "name": "python",
   "nbconvert_exporter": "python",
   "pygments_lexer": "ipython3",
   "version": "3.10.0"
  }
 },
 "nbformat": 4,
 "nbformat_minor": 2
}
