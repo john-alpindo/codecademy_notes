{
 "cells": [
  {
   "cell_type": "markdown",
   "metadata": {},
   "source": [
    "# Unit Testing\n",
    "## Exceptions\n",
    "### Exception Introduction\n",
    "**SyntaxError** is raised when the parser encounters a syntax error.\n",
    "```text\n",
    "  File \"script.py\", line 1\n",
    "    def print_five\n",
    "                 ^\n",
    "SyntaxError: invalid syntax\n",
    "```\n",
    "**Exceptions** are raised when the program encounters an error during its execution.\n",
    "```text\n",
    "Traceback (most recent call last):\n",
    "  File \"script.py\", line 1, in <module>\n",
    "    print(1/0)\n",
    "ZeroDivisionError: division by zero\n",
    "```\n",
    "### Built-in Exceptions\n",
    "Most exceptions inherit from the `BaseException` class, which inherits from the `Exception` class. The `Exception` class is the base class for all built-in exceptions. You can find a list of built-in exceptions [here](https://docs.python.org/3/library/exceptions.html).\n",
    "\n",
    "There's a lot of built-in exceptions, but we don't need to know all of them. We just need to know the most common ones.\n",
    "\n",
    "### Raising Exceptions\n",
    "- Syntax\n",
    "```python\n",
    "raise NameError\n",
    "# or \n",
    "raise NameError('Custom Message')\n",
    "```\n",
    "- Here's an example of raising a `TypeError` exception:\n",
    "```python\n",
    "def open_register(employee_status):\n",
    "  if employee_status == 'Authorized':\n",
    "    print('Successfully opened cash register')\n",
    "  else:\n",
    "    # Alternatives: raise TypeError() or TypeError('Message')\n",
    "    raise TypeError\n",
    "```\n",
    "- Alternatively, when no built-in exception fits the error, it might be better to use a generic exception with a custom message:\n",
    "```python\n",
    "def open_register(employee_status):\n",
    "  if employee_status == 'Authorized':\n",
    "    print('Successfully opened cash register')\n",
    "  else:\n",
    "    raise Exception('Employee does not have access!')\n",
    "```\n",
    "### Try/Except\n",
    "- Python will first attempt to execute the code inside the `try` block.\n",
    "- If an exception is raised, Python will stop executing the `try` block and jump to the `except` block.\n",
    "- If no exception is raised, the `except` block will be skipped.\n",
    "- The `finally` block will always be executed, regardless of whether an exception was raised."
   ]
  },
  {
   "cell_type": "code",
   "execution_count": 1,
   "metadata": {},
   "outputs": [
    {
     "name": "stdout",
     "output_type": "stream",
     "text": [
      "The hex value of red is #FF0000\n",
      "Loop continues...\n",
      "An exception occurred! Color does not exist.\n",
      "Loop continues...\n",
      "The hex value of yellow is #FFFF00\n",
      "Loop continues...\n"
     ]
    }
   ],
   "source": [
    "colors = {\n",
    "    'red': '#FF0000',\n",
    "    'blue': '#0000FF',\n",
    "    'yellow': '#FFFF00',\n",
    "}\n",
    "\n",
    "for color in ('red', 'green', 'yellow'):\n",
    "  try:\n",
    "    print('The hex value of ' + color + ' is ' + colors[color])\n",
    "  except:\n",
    "    print('An exception occurred! Color does not exist.')\n",
    "  print('Loop continues...')"
   ]
  },
  {
   "cell_type": "markdown",
   "metadata": {},
   "source": [
    "### Catching Specific Exceptions\n",
    "It is considered bad practice to catch all exceptions. Instead, you should catch specific exceptions. This way, you can handle different exceptions in different ways.\n",
    "\n",
    "- You can catch specific exceptions by specifying the exception type after the `except` keyword.\n",
    "- If you don't specify an exception type, the `except` block will catch all exceptions.\n",
    "\n",
    "```python\n",
    "try:\n",
    "    print(undefined_var)\n",
    "except NameError:\n",
    "    print('We hit a NameError')\n",
    "```\n",
    "Python allows us to capture the exception object by using the `as` keyword."
   ]
  },
  {
   "cell_type": "code",
   "execution_count": 2,
   "metadata": {},
   "outputs": [
    {
     "name": "stdout",
     "output_type": "stream",
     "text": [
      "We hit a NameError\n",
      "name 'undefined_var' is not defined\n"
     ]
    }
   ],
   "source": [
    "try:\n",
    "    print(undefined_var)\n",
    "except NameError as errorObject:\n",
    "    print('We hit a NameError')\n",
    "    print(errorObject)"
   ]
  }
 ],
 "metadata": {
  "kernelspec": {
   "display_name": "Python 3",
   "language": "python",
   "name": "python3"
  },
  "language_info": {
   "codemirror_mode": {
    "name": "ipython",
    "version": 3
   },
   "file_extension": ".py",
   "mimetype": "text/x-python",
   "name": "python",
   "nbconvert_exporter": "python",
   "pygments_lexer": "ipython3",
   "version": "3.10.0"
  }
 },
 "nbformat": 4,
 "nbformat_minor": 2
}
