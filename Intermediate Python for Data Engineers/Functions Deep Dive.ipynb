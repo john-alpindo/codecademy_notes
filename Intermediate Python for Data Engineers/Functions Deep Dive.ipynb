{
 "cells": [
  {
   "cell_type": "markdown",
   "metadata": {},
   "source": [
    "# Functions Deep Dive\n",
    "## Lambda Functions\n",
    "Lambda functions are small, anonymous functions defined using the `lambda` keyword. It is the preferred way of writing small functions that are used only once in a program.\n",
    "\n",
    "```python\n",
    "def add_two(my_input):\n",
    "  return my_input + 2\n",
    "\n",
    "# can also be written as a Lambda function\n",
    "add_two = lambda my_input: my_input + 2\n",
    "```\n",
    "## Introduction to Higher-Order Functions\n",
    "Higher-order functions are functions that take other functions as arguments or return functions as results. They enable developers to write more concise and modular code by abstracting common patterns into reusable functions.\n",
    "\n",
    "### Functions as First-Class Objects\n",
    "In Python, functions are first-class objects, which means they can be:\n",
    "- stored in variables\n",
    "- passed as arguments to other functions\n",
    "- returned from other functions\n",
    "- stored in data structures\n",
    "\n",
    "```python\n",
    "# Here, we assign a function to a variable\n",
    "uppercase = str.upper \n",
    "\n",
    "# And then call it \n",
    "big_pie = uppercase(\"pumpkinpie\")\n",
    "```\n",
    "First-class objects in python allow for the creation of higher-order functions, which can take advantage of functions as arguments or return values.\n",
    "\n",
    "### Functions as Arguments\n",
    "Higher-order functions can take other functions as arguments to customize their behavior. This is a powerful concept that enables code reuse and abstraction of common patterns."
   ]
  },
  {
   "cell_type": "code",
   "execution_count": 1,
   "metadata": {},
   "outputs": [
    {
     "data": {
      "text/plain": [
       "106.0"
      ]
     },
     "execution_count": 1,
     "metadata": {},
     "output_type": "execute_result"
    }
   ],
   "source": [
    "def total_bill(func, value):\n",
    "  total = func(value)\n",
    "  return total\n",
    "\n",
    "def add_tax(total):\n",
    "  tax = total * 0.06\n",
    "  new_total = total + tax\n",
    "  return new_total\n",
    " \n",
    "total_bill(add_tax, 100)"
   ]
  },
  {
   "cell_type": "markdown",
   "metadata": {},
   "source": [
    "Here the `total_bill` is a higher-order function that takes another function `add_tax` as an argument and applies it to the value `100`."
   ]
  },
  {
   "cell_type": "code",
   "execution_count": 2,
   "metadata": {},
   "outputs": [
    {
     "data": {
      "text/plain": [
       "120.0"
      ]
     },
     "execution_count": 2,
     "metadata": {},
     "output_type": "execute_result"
    }
   ],
   "source": [
    "def add_tip(total):\n",
    "  tip = total * .2\n",
    "  new_total = total + tip\n",
    "  return new_total\n",
    "\n",
    "total_bill(add_tip, 100)"
   ]
  },
  {
   "cell_type": "markdown",
   "metadata": {},
   "source": [
    "Here the `total_bill` function is reused with a different function `add_tip` to calculate the total bill with a tip.\n",
    "\n",
    "```python\n",
    "def total_bill(func, value):\n",
    "  total = func(value)\n",
    "  return (\"The total amount owed is $\" + \"{:.2f}\".format(total) + \". Thank you! :)\")\n",
    "```\n",
    "Here the `total_bill` function is modified to return a formatted string with the total amount owed. This demonstrates how higher-order functions can be used to customize the behavior of a function."
   ]
  },
  {
   "cell_type": "markdown",
   "metadata": {},
   "source": [
    "### Functions as Arguments - Iterations\n",
    "Another powerful use of higher-order functions is to apply a function to each element of a list using iterations. This allows for easy and efficient processing of multiple values."
   ]
  },
  {
   "cell_type": "code",
   "execution_count": 5,
   "metadata": {},
   "outputs": [
    {
     "name": "stdout",
     "output_type": "stream",
     "text": [
      "['Total amount owed is $121.90. Thank you! :)', 'Total amount owed is $127.20. Thank you! :)', 'Total amount owed is $44.52. Thank you! :)']\n",
      "['Total amount owed is $138.00. Thank you! :)', 'Total amount owed is $144.00. Thank you! :)', 'Total amount owed is $50.40. Thank you! :)']\n"
     ]
    }
   ],
   "source": [
    "def total_bills(func, list):\n",
    "  # This list will store all the new bill values\n",
    "  new_bills = []\n",
    "\n",
    "  # This loop will iterate through our bills\n",
    "  for i in range(len(list)):\n",
    "\n",
    "    # Here we apply the function to each element of the list!\n",
    "    total = func(list[i])\n",
    "    new_bills.append(\"Total amount owed is $\" + \"{:.2f}\".format(total) + \". Thank you! :)\")\n",
    "\n",
    "  return new_bills\n",
    "\n",
    "bills = [115, 120, 42]\n",
    "bills_w_tax = total_bills(add_tax, bills)\n",
    "print(bills_w_tax)\n",
    "bills_w_tip = total_bills(add_tip, bills)\n",
    "print(bills_w_tip)"
   ]
  },
  {
   "cell_type": "markdown",
   "metadata": {},
   "source": [
    "### Functions as Return Values"
   ]
  },
  {
   "cell_type": "code",
   "execution_count": 2,
   "metadata": {},
   "outputs": [
    {
     "name": "stdout",
     "output_type": "stream",
     "text": [
      "90\n"
     ]
    }
   ],
   "source": [
    "def make_box_volume_function(height):\n",
    "    # defines and returns a function that takes two numeric arguments,        \n",
    "    # length &  width, and returns the volume given the input height\n",
    "    def volume(length, width):\n",
    "        return length*width*height\n",
    "\n",
    "    return volume\n",
    " \n",
    "box_volume_height15 = make_box_volume_function(15)\n",
    " \n",
    "print(box_volume_height15(3,2))"
   ]
  },
  {
   "cell_type": "code",
   "execution_count": 3,
   "metadata": {},
   "outputs": [
    {
     "name": "stdout",
     "output_type": "stream",
     "text": [
      "60\n"
     ]
    }
   ],
   "source": [
    "box_volume_height10 = make_box_volume_function(10)\n",
    " \n",
    "print(box_volume_height10(3,2))"
   ]
  },
  {
   "cell_type": "markdown",
   "metadata": {},
   "source": [
    "Here the `make_box_volume_function` is a higher-order function that returns a function which can be used to create a box of any size."
   ]
  },
  {
   "cell_type": "markdown",
   "metadata": {},
   "source": [
    "## Built-In Higher-Order Functions\n",
    "### Map\n",
    "The `map` function applies a function to each item in an iterable (like a list) and returns a list of the results. It is a built-in higher-order function that is commonly used in Python.\n",
    "\n",
    "```python\n",
    "returned_map_object = map(function, iterable)\n",
    "```"
   ]
  },
  {
   "cell_type": "code",
   "execution_count": 1,
   "metadata": {},
   "outputs": [
    {
     "name": "stdout",
     "output_type": "stream",
     "text": [
      "<map object at 0x1034ff0a0>\n"
     ]
    }
   ],
   "source": [
    "def double(x):\n",
    " return x*2\n",
    " \n",
    "int_list = [3, 6, 9]\n",
    " \n",
    "doubled = map(double, int_list)\n",
    " \n",
    "print(doubled)"
   ]
  },
  {
   "cell_type": "markdown",
   "metadata": {},
   "source": [
    "If we want to see the results, we can convert the returned map object to a list."
   ]
  },
  {
   "cell_type": "code",
   "execution_count": 2,
   "metadata": {},
   "outputs": [
    {
     "name": "stdout",
     "output_type": "stream",
     "text": [
      "[6, 12, 18]\n"
     ]
    }
   ],
   "source": [
    "print(list(doubled))"
   ]
  },
  {
   "cell_type": "markdown",
   "metadata": {},
   "source": [
    "### Filter\n",
    "The `filter` function applies a function to each item in an iterable and returns a list of items for which the function returns `True`."
   ]
  },
  {
   "cell_type": "code",
   "execution_count": 5,
   "metadata": {},
   "outputs": [
    {
     "name": "stdout",
     "output_type": "stream",
     "text": [
      "['margarita', 'Masako', 'Maki']\n"
     ]
    }
   ],
   "source": [
    "names = [\"margarita\", \"Linda\", \"Masako\", \"Maki\", \"Angela\"]\n",
    " \n",
    "M_names = filter(lambda name: name[0] == \"M\" or name[0] == \"m\", names) \n",
    " \n",
    "print(list(M_names))"
   ]
  },
  {
   "cell_type": "markdown",
   "metadata": {},
   "source": [
    "### Reduce\n",
    "The `reduce` function applies a function to each item in an iterable and returns a single value."
   ]
  },
  {
   "cell_type": "code",
   "execution_count": 10,
   "metadata": {},
   "outputs": [
    {
     "name": "stdout",
     "output_type": "stream",
     "text": [
      "1944\n"
     ]
    }
   ],
   "source": [
    "from functools import reduce\n",
    " \n",
    "int_list = [3, 6, 9, 12]\n",
    " \n",
    "reduced_int_list = reduce(lambda x,y: x*y, int_list)\n",
    " \n",
    "print(reduced_int_list)"
   ]
  },
  {
   "cell_type": "markdown",
   "metadata": {},
   "source": [
    "## Decorators\n",
    "Decorators are a powerful feature in Python that allows you to modify or extend the behavior of functions or methods without changing their implementation. They are commonly used to add functionality to existing functions or methods.\n",
    "\n",
    "### Syntax\n",
    "Decorators are written using the `@decorator_name` syntax above the function definition. The decorator function is called with the function being decorated as an argument.\n",
    "\n",
    "```python\n",
    "@decorator\n",
    "def function():\n",
    "    pass\n",
    "```\n",
    "\n",
    "### Use Cases\n",
    "Decorators are commonly used for:\n",
    "- Logging\n",
    "- Timing\n",
    "- Authentication\n",
    "- Rate limiting\n",
    "- Caching\n",
    "- Validation\n",
    "- and more"
   ]
  },
  {
   "cell_type": "code",
   "execution_count": 13,
   "metadata": {},
   "outputs": [
    {
     "name": "stdout",
     "output_type": "stream",
     "text": [
      "Calling function: my_function\n",
      "Hello, World!\n"
     ]
    }
   ],
   "source": [
    "def log_function_name(func):\n",
    "    def wrapper():\n",
    "        print(f\"Calling function: {func.__name__}\")\n",
    "        return func()\n",
    "    return wrapper\n",
    "\n",
    "@log_function_name\n",
    "def my_function():\n",
    "    print(\"Hello, World!\")\n",
    "\n",
    "my_function()"
   ]
  },
  {
   "cell_type": "markdown",
   "metadata": {},
   "source": [
    "### Decorator with Parameters\n",
    "Decorators can also take parameters by defining a decorator function that returns a decorator."
   ]
  },
  {
   "cell_type": "code",
   "execution_count": 19,
   "metadata": {},
   "outputs": [
    {
     "name": "stdout",
     "output_type": "stream",
     "text": [
      "Message Log: \n",
      "Hello, World! My name is Peter\n"
     ]
    }
   ],
   "source": [
    "def logging_decorator(log_message):\n",
    "    def wrapper(*args, **kwargs):\n",
    "        print('Message Log: ')\n",
    "        log_message(*args, **kwargs)\n",
    "    return wrapper\n",
    "\n",
    "@logging_decorator\n",
    "def my_function(greeting, name):\n",
    "    print(greeting, name)\n",
    "\n",
    "my_function(\"Hello, World!\", \"My name is Peter\")"
   ]
  }
 ],
 "metadata": {
  "kernelspec": {
   "display_name": "Python 3",
   "language": "python",
   "name": "python3"
  },
  "language_info": {
   "codemirror_mode": {
    "name": "ipython",
    "version": 3
   },
   "file_extension": ".py",
   "mimetype": "text/x-python",
   "name": "python",
   "nbconvert_exporter": "python",
   "pygments_lexer": "ipython3",
   "version": "3.10.0"
  }
 },
 "nbformat": 4,
 "nbformat_minor": 2
}
