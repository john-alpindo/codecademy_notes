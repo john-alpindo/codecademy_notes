{
 "cells": [
  {
   "cell_type": "markdown",
   "metadata": {},
   "source": [
    "# Sets\n"
   ]
  },
  {
   "cell_type": "markdown",
   "metadata": {},
   "source": [
    "## Introduction to Python Sets\n",
    "Sets are unordered collections of unique elements. Sets are mutable, meaning that you can add or remove elements from a set. Alternatively, you can create a set with the `frozenset()` function, which creates an immutable set. Sets are useful for storing unique elements and performing set operations such as union, intersection, difference, and symmetric difference."
   ]
  },
  {
   "cell_type": "markdown",
   "metadata": {},
   "source": [
    "## Creating a Set\n",
    "\n",
    "You can create a set by using curly braces `{}` or the `set()` function. To create an empty set, you must use the `set()` function because `{}` creates an empty dictionary."
   ]
  },
  {
   "cell_type": "code",
   "execution_count": 1,
   "metadata": {},
   "outputs": [],
   "source": [
    "# Creating a set with curly braces\n",
    "music_genres = {'country', 'punk', 'rap', 'techno', 'pop', 'latin'}\n",
    "\n",
    "# Creating a set from a list using set()\n",
    "music_genres_2 = set(['country', 'punk', 'rap', 'techno', 'pop', 'latin'])"
   ]
  },
  {
   "cell_type": "markdown",
   "metadata": {},
   "source": [
    "It's worth noting that creating a set from a list will remove any duplicate elements from the list."
   ]
  },
  {
   "cell_type": "code",
   "execution_count": 2,
   "metadata": {},
   "outputs": [
    {
     "name": "stdout",
     "output_type": "stream",
     "text": [
      "{'punk', 'country', 'pop', 'rap'}\n"
     ]
    }
   ],
   "source": [
    "# Creating a set from a list that contains duplicates\n",
    "music_genres_3 = set(['country', 'punk', 'rap', 'pop', 'pop', 'pop'])\n",
    "print(music_genres_3)"
   ]
  },
  {
   "cell_type": "markdown",
   "metadata": {},
   "source": [
    "Set can contain elements of different data types, such as integers, floats, strings, and tuples. However, sets cannot contain mutable elements like lists, dictionaries, or other sets."
   ]
  },
  {
   "cell_type": "code",
   "execution_count": 7,
   "metadata": {},
   "outputs": [
    {
     "name": "stdout",
     "output_type": "stream",
     "text": [
      "{True, 'country', ('a', 'b', 'c'), 'music times', 70, 45.7, 'categories'}\n"
     ]
    }
   ],
   "source": [
    "music_different = {70, 'music times', 'categories', True , 'country', 45.7, ('a', 'b', 'c')}\n",
    "print(music_different)"
   ]
  },
  {
   "cell_type": "markdown",
   "metadata": {},
   "source": [
    "Creating an empty set with `{}` will create an empty dictionary, not an empty set. To create an empty set, you must use the `set()` function."
   ]
  },
  {
   "cell_type": "code",
   "execution_count": 9,
   "metadata": {},
   "outputs": [],
   "source": [
    "empty_genres = set()"
   ]
  },
  {
   "cell_type": "markdown",
   "metadata": {},
   "source": [
    "Simila to lists, sets can be created using a set comprehension. A set comprehension is similar to a list comprehension, but it creates a set instead of a list."
   ]
  },
  {
   "cell_type": "code",
   "execution_count": 10,
   "metadata": {},
   "outputs": [
    {
     "name": "stdout",
     "output_type": "stream",
     "text": [
      "{'punk', 'pop'}\n"
     ]
    }
   ],
   "source": [
    "items = ['country', 'punk', 'rap', 'techno', 'pop', 'latin']\n",
    "\n",
    "music_genres = {category for category in items if category[0] == 'p'}\n",
    "print(music_genres)"
   ]
  },
  {
   "cell_type": "markdown",
   "metadata": {},
   "source": [
    "## Creating a Frozenset\n",
    "Unline sets, frozensets are immutable. You can create a frozenset using the `frozenset()` function. Frozensets are useful when you want to create a set that cannot be modified."
   ]
  },
  {
   "cell_type": "code",
   "execution_count": 13,
   "metadata": {},
   "outputs": [],
   "source": [
    "# Creating a frozenset from a list\n",
    "frozen_music_genres = frozenset(['country', 'punk', 'rap', 'techno', 'pop', 'latin'])"
   ]
  },
  {
   "cell_type": "markdown",
   "metadata": {},
   "source": [
    "Empty frozensets can be created using the `frozenset()` function."
   ]
  },
  {
   "cell_type": "code",
   "execution_count": 14,
   "metadata": {},
   "outputs": [],
   "source": [
    "empty_frozen_music_genres = frozenset()"
   ]
  },
  {
   "cell_type": "markdown",
   "metadata": {},
   "source": [
    "## Adding to a Set\n",
    "\n",
    "There are two ways to add elements to a set: using the `add()` method and the `update()` method."
   ]
  },
  {
   "cell_type": "markdown",
   "metadata": {},
   "source": [
    "### `.add()`\n",
    "\n",
    "The `.add()` method adds an element to a set. If the element is already in the set, the set will not be modified."
   ]
  },
  {
   "cell_type": "code",
   "execution_count": 15,
   "metadata": {},
   "outputs": [
    {
     "name": "stdout",
     "output_type": "stream",
     "text": [
      "{'guitar', 'acoustic', 'folk', 'country'}\n"
     ]
    }
   ],
   "source": [
    "# Create a set to hold the song tags\n",
    "song_tags = {'country', 'folk', 'acoustic'}\n",
    "\n",
    "# Add a new tag to the set and try to add a duplicate.\n",
    "song_tags.add('guitar')\n",
    "song_tags.add('country')\n",
    "\n",
    "print(song_tags)"
   ]
  },
  {
   "cell_type": "markdown",
   "metadata": {},
   "source": [
    "### `.update()`\n",
    "\n",
    "The `.update()` method adds multiple elements to a set. You can pass multiple elements as arguments to the `.update()` method."
   ]
  },
  {
   "cell_type": "code",
   "execution_count": 16,
   "metadata": {},
   "outputs": [
    {
     "name": "stdout",
     "output_type": "stream",
     "text": [
      "{'folk', 'live', 'country', 'blues', 'acoustic'}\n"
     ]
    }
   ],
   "source": [
    "# Create a set to hold the song tags\n",
    "song_tags = {'country', 'folk', 'acoustic'}\n",
    "\n",
    "# Add more tags using a hashable object (such as a list of elements)\n",
    "other_tags = ['live', 'blues', 'acoustic']\n",
    "song_tags.update(other_tags)\n",
    "\n",
    "print(song_tags)"
   ]
  },
  {
   "cell_type": "code",
   "execution_count": null,
   "metadata": {},
   "outputs": [],
   "source": [
    "song_data = {'Retro Words': ['pop', 'warm', 'happy', 'electric']}\n",
    "\n",
    "user_tag_1 = 'warm'\n",
    "user_tag_2 = 'exciting'\n",
    "user_tag_3 = 'electric'\n",
    "\n",
    "# Write your code below!\n",
    "tag_set = set(song_data['Retro Words'])\n",
    "tag_set.update([user_tag_1, user_tag_2, user_tag_3])\n",
    "song_data['Retro Words'] = list(tag_set)"
   ]
  }
 ],
 "metadata": {
  "kernelspec": {
   "display_name": "Python 3",
   "language": "python",
   "name": "python3"
  },
  "language_info": {
   "codemirror_mode": {
    "name": "ipython",
    "version": 3
   },
   "file_extension": ".py",
   "mimetype": "text/x-python",
   "name": "python",
   "nbconvert_exporter": "python",
   "pygments_lexer": "ipython3",
   "version": "3.10.0"
  }
 },
 "nbformat": 4,
 "nbformat_minor": 2
}
