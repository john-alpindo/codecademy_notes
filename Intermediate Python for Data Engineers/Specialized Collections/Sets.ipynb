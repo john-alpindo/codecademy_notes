{
 "cells": [
  {
   "cell_type": "markdown",
   "metadata": {},
   "source": [
    "# Sets\n"
   ]
  },
  {
   "cell_type": "markdown",
   "metadata": {},
   "source": [
    "## Introduction to Python Sets\n",
    "Sets are unordered collections of unique elements. Sets are mutable, meaning that you can add or remove elements from a set. Alternatively, you can create a set with the `frozenset()` function, which creates an immutable set. Sets are useful for storing unique elements and performing set operations such as union, intersection, difference, and symmetric difference."
   ]
  },
  {
   "cell_type": "markdown",
   "metadata": {},
   "source": [
    "## Creating a Set\n",
    "\n",
    "You can create a set by using curly braces `{}` or the `set()` function. To create an empty set, you must use the `set()` function because `{}` creates an empty dictionary."
   ]
  },
  {
   "cell_type": "code",
   "execution_count": 1,
   "metadata": {},
   "outputs": [],
   "source": [
    "# Creating a set with curly braces\n",
    "music_genres = {'country', 'punk', 'rap', 'techno', 'pop', 'latin'}\n",
    "\n",
    "# Creating a set from a list using set()\n",
    "music_genres_2 = set(['country', 'punk', 'rap', 'techno', 'pop', 'latin'])"
   ]
  },
  {
   "cell_type": "markdown",
   "metadata": {},
   "source": [
    "It's worth noting that creating a set from a list will remove any duplicate elements from the list."
   ]
  },
  {
   "cell_type": "code",
   "execution_count": 2,
   "metadata": {},
   "outputs": [
    {
     "name": "stdout",
     "output_type": "stream",
     "text": [
      "{'punk', 'country', 'pop', 'rap'}\n"
     ]
    }
   ],
   "source": [
    "# Creating a set from a list that contains duplicates\n",
    "music_genres_3 = set(['country', 'punk', 'rap', 'pop', 'pop', 'pop'])\n",
    "print(music_genres_3)"
   ]
  },
  {
   "cell_type": "markdown",
   "metadata": {},
   "source": [
    "Set can contain elements of different data types, such as integers, floats, strings, and tuples. However, sets cannot contain mutable elements like lists, dictionaries, or other sets."
   ]
  },
  {
   "cell_type": "code",
   "execution_count": 7,
   "metadata": {},
   "outputs": [
    {
     "name": "stdout",
     "output_type": "stream",
     "text": [
      "{True, 'country', ('a', 'b', 'c'), 'music times', 70, 45.7, 'categories'}\n"
     ]
    }
   ],
   "source": [
    "music_different = {70, 'music times', 'categories', True , 'country', 45.7, ('a', 'b', 'c')}\n",
    "print(music_different)"
   ]
  },
  {
   "cell_type": "markdown",
   "metadata": {},
   "source": [
    "Creating an empty set with `{}` will create an empty dictionary, not an empty set. To create an empty set, you must use the `set()` function."
   ]
  },
  {
   "cell_type": "code",
   "execution_count": 9,
   "metadata": {},
   "outputs": [],
   "source": [
    "empty_genres = set()"
   ]
  },
  {
   "cell_type": "markdown",
   "metadata": {},
   "source": [
    "Simila to lists, sets can be created using a set comprehension. A set comprehension is similar to a list comprehension, but it creates a set instead of a list."
   ]
  },
  {
   "cell_type": "code",
   "execution_count": 10,
   "metadata": {},
   "outputs": [
    {
     "name": "stdout",
     "output_type": "stream",
     "text": [
      "{'punk', 'pop'}\n"
     ]
    }
   ],
   "source": [
    "items = ['country', 'punk', 'rap', 'techno', 'pop', 'latin']\n",
    "\n",
    "music_genres = {category for category in items if category[0] == 'p'}\n",
    "print(music_genres)"
   ]
  },
  {
   "cell_type": "markdown",
   "metadata": {},
   "source": [
    "## Creating a Frozenset\n",
    "Unline sets, frozensets are immutable. You can create a frozenset using the `frozenset()` function. Frozensets are useful when you want to create a set that cannot be modified."
   ]
  },
  {
   "cell_type": "code",
   "execution_count": 13,
   "metadata": {},
   "outputs": [],
   "source": [
    "# Creating a frozenset from a list\n",
    "frozen_music_genres = frozenset(['country', 'punk', 'rap', 'techno', 'pop', 'latin'])"
   ]
  },
  {
   "cell_type": "markdown",
   "metadata": {},
   "source": [
    "Empty frozensets can be created using the `frozenset()` function."
   ]
  },
  {
   "cell_type": "code",
   "execution_count": 14,
   "metadata": {},
   "outputs": [],
   "source": [
    "empty_frozen_music_genres = frozenset()"
   ]
  },
  {
   "cell_type": "markdown",
   "metadata": {},
   "source": [
    "## Adding to a Set\n",
    "\n",
    "There are two ways to add elements to a set: using the `add()` method and the `update()` method."
   ]
  },
  {
   "cell_type": "markdown",
   "metadata": {},
   "source": [
    "### `.add()`\n",
    "\n",
    "The `.add()` method adds an element to a set. If the element is already in the set, the set will not be modified."
   ]
  },
  {
   "cell_type": "code",
   "execution_count": 15,
   "metadata": {},
   "outputs": [
    {
     "name": "stdout",
     "output_type": "stream",
     "text": [
      "{'guitar', 'acoustic', 'folk', 'country'}\n"
     ]
    }
   ],
   "source": [
    "# Create a set to hold the song tags\n",
    "song_tags = {'country', 'folk', 'acoustic'}\n",
    "\n",
    "# Add a new tag to the set and try to add a duplicate.\n",
    "song_tags.add('guitar')\n",
    "song_tags.add('country')\n",
    "\n",
    "print(song_tags)"
   ]
  },
  {
   "cell_type": "markdown",
   "metadata": {},
   "source": [
    "### `.update()`\n",
    "\n",
    "The `.update()` method adds multiple elements to a set. You can pass multiple elements as arguments to the `.update()` method."
   ]
  },
  {
   "cell_type": "code",
   "execution_count": 16,
   "metadata": {},
   "outputs": [
    {
     "name": "stdout",
     "output_type": "stream",
     "text": [
      "{'folk', 'live', 'country', 'blues', 'acoustic'}\n"
     ]
    }
   ],
   "source": [
    "# Create a set to hold the song tags\n",
    "song_tags = {'country', 'folk', 'acoustic'}\n",
    "\n",
    "# Add more tags using a hashable object (such as a list of elements)\n",
    "other_tags = ['live', 'blues', 'acoustic']\n",
    "song_tags.update(other_tags)\n",
    "\n",
    "print(song_tags)"
   ]
  },
  {
   "cell_type": "code",
   "execution_count": null,
   "metadata": {},
   "outputs": [],
   "source": [
    "song_data = {'Retro Words': ['pop', 'warm', 'happy', 'electric']}\n",
    "\n",
    "user_tag_1 = 'warm'\n",
    "user_tag_2 = 'exciting'\n",
    "user_tag_3 = 'electric'\n",
    "\n",
    "# Write your code below!\n",
    "tag_set = set(song_data['Retro Words'])\n",
    "tag_set.update([user_tag_1, user_tag_2, user_tag_3])\n",
    "song_data['Retro Words'] = list(tag_set)"
   ]
  },
  {
   "cell_type": "markdown",
   "metadata": {},
   "source": [
    "## Removing From a Set\n",
    "\n",
    "There are two methods to remove elements from a set: the `remove()` method and the `discard()` method."
   ]
  },
  {
   "cell_type": "markdown",
   "metadata": {},
   "source": [
    "### `.remove()`\n",
    "\n",
    "The `.remove()` method removes an element from a set. If the element is not in the set, a `KeyError` will be raised."
   ]
  },
  {
   "cell_type": "code",
   "execution_count": 1,
   "metadata": {},
   "outputs": [
    {
     "name": "stdout",
     "output_type": "stream",
     "text": [
      "{'live', 'blues', 'country', 'guitar', 'acoustic'}\n"
     ]
    },
    {
     "ename": "KeyError",
     "evalue": "'fiddle'",
     "output_type": "error",
     "traceback": [
      "\u001b[0;31m---------------------------------------------------------------------------\u001b[0m",
      "\u001b[0;31mKeyError\u001b[0m                                  Traceback (most recent call last)",
      "Cell \u001b[0;32mIn[1], line 9\u001b[0m\n\u001b[1;32m      6\u001b[0m \u001b[38;5;28mprint\u001b[39m(song_tags)\n\u001b[1;32m      8\u001b[0m \u001b[38;5;66;03m# Try removing a non-existent element\u001b[39;00m\n\u001b[0;32m----> 9\u001b[0m \u001b[43msong_tags\u001b[49m\u001b[38;5;241;43m.\u001b[39;49m\u001b[43mremove\u001b[49m\u001b[43m(\u001b[49m\u001b[38;5;124;43m'\u001b[39;49m\u001b[38;5;124;43mfiddle\u001b[39;49m\u001b[38;5;124;43m'\u001b[39;49m\u001b[43m)\u001b[49m\n",
      "\u001b[0;31mKeyError\u001b[0m: 'fiddle'"
     ]
    }
   ],
   "source": [
    "# Given a list of song tags\n",
    "song_tags = {'guitar', 'acoustic', 'folk', 'country', 'live', 'blues'}\n",
    "\n",
    "# Remove an existing element\n",
    "song_tags.remove('folk')\n",
    "print(song_tags)\n",
    "\n",
    "# Try removing a non-existent element\n",
    "song_tags.remove('fiddle')"
   ]
  },
  {
   "cell_type": "markdown",
   "metadata": {},
   "source": [
    "### `.discard()`\n",
    "\n",
    "The `.discard()` method removes an element from a set. If the element is not in the set, the set will not be modified and no error will be raised."
   ]
  },
  {
   "cell_type": "code",
   "execution_count": 2,
   "metadata": {},
   "outputs": [
    {
     "name": "stdout",
     "output_type": "stream",
     "text": [
      "{'live', 'blues', 'folk', 'country', 'acoustic'}\n",
      "{'live', 'blues', 'folk', 'country', 'acoustic'}\n"
     ]
    }
   ],
   "source": [
    "# Given a list of song tags\n",
    "song_tags = {'guitar', 'acoustic', 'folk', 'country', 'live', 'blues'}\n",
    "\n",
    "# Try removing a non-existent element but with the discard method\n",
    "song_tags.discard('guitar')\n",
    "print(song_tags)\n",
    "\n",
    "# Try removing a non-existent element but with the discard method\n",
    "song_tags.discard('fiddle')\n",
    "print(song_tags)"
   ]
  },
  {
   "cell_type": "markdown",
   "metadata": {},
   "source": [
    "## Finding Elements in a Set\n",
    "\n",
    "Since `set`and `frozenset` are unordered, you cannot access elements by index. Instead, you can use the `in` keyword to check if an element is in a set."
   ]
  },
  {
   "cell_type": "code",
   "execution_count": 3,
   "metadata": {},
   "outputs": [
    {
     "name": "stdout",
     "output_type": "stream",
     "text": [
      "True\n"
     ]
    }
   ],
   "source": [
    "# Given a list of song tags\n",
    "song_tags = {'guitar', 'acoustic', 'folk', 'country', 'live', 'blues'}\n",
    "\n",
    "# Print the result of testing whether 'country' is in the set of tags or not\n",
    "print('country' in song_tags)\n"
   ]
  },
  {
   "cell_type": "markdown",
   "metadata": {},
   "source": [
    "## Introduction to Set Operations\n",
    "\n",
    "Sets support several operations, including `union`, `intersection`, `difference`, and `symmetric difference`."
   ]
  },
  {
   "cell_type": "markdown",
   "metadata": {},
   "source": [
    "## Set Union\n",
    "\n",
    "The union of two sets is the set of all elements that are in either set. You can use the `|` operator or the `union()` method to perform a union operation."
   ]
  },
  {
   "cell_type": "markdown",
   "metadata": {},
   "source": [
    "### `union()`"
   ]
  },
  {
   "cell_type": "code",
   "execution_count": 9,
   "metadata": {},
   "outputs": [
    {
     "name": "stdout",
     "output_type": "stream",
     "text": [
      "{'classic', 'heavy metal', 'rock', 'rock and roll', 'synth', 'electric guitar'}\n"
     ]
    }
   ],
   "source": [
    "# Given a set and frozenset of song tags for two python related hits\n",
    "prepare_to_py = {'rock', 'heavy metal', 'electric guitar', 'synth'}\n",
    "\n",
    "py_and_dry = frozenset({'classic', 'rock', 'electric guitar', 'rock and roll'})\n",
    "\n",
    "# Get the union using the .union() method\n",
    "combined_tags = prepare_to_py.union(py_and_dry)\n",
    "print(combined_tags)"
   ]
  },
  {
   "cell_type": "markdown",
   "metadata": {},
   "source": [
    "### `|` operator"
   ]
  },
  {
   "cell_type": "code",
   "execution_count": 7,
   "metadata": {},
   "outputs": [
    {
     "name": "stdout",
     "output_type": "stream",
     "text": [
      "frozenset({'classic', 'heavy metal', 'rock', 'rock and roll', 'synth', 'electric guitar'})\n"
     ]
    }
   ],
   "source": [
    "# Get the union using the | operator\n",
    "frozen_combined_tags = py_and_dry | prepare_to_py\n",
    "print(frozen_combined_tags)"
   ]
  },
  {
   "cell_type": "markdown",
   "metadata": {},
   "source": [
    "**Note:** The returned type of set takes the type of the set on which the operation is performed. In the first example, the returned set is a `set` because the operation is performed on a `set`. In the second example, the returned set is a `frozenset` because the operation is performed on a `frozenset`."
   ]
  },
  {
   "cell_type": "markdown",
   "metadata": {},
   "source": [
    "## Set Intersection\n",
    "\n",
    "The intersection of two sets is the set of all elements that are in both sets. You can use the `&` operator or the `intersection()` method to perform an intersection operation."
   ]
  },
  {
   "cell_type": "markdown",
   "metadata": {},
   "source": [
    "### `intersection()`"
   ]
  },
  {
   "cell_type": "code",
   "execution_count": 13,
   "metadata": {},
   "outputs": [
    {
     "name": "stdout",
     "output_type": "stream",
     "text": [
      "frozenset({'electric guitar', 'rock'})\n"
     ]
    }
   ],
   "source": [
    "# Given a set and frozenset of song tags for two python related hits\n",
    "prepare_to_py = {'rock', 'heavy metal', 'electric guitar', 'synth'}\n",
    "\n",
    "py_and_dry = frozenset({'classic', 'rock', 'electric guitar', 'rock and roll'})\n",
    "\n",
    "# Find the intersection between them while providing the `frozenset` first.\n",
    "frozen_intersected_tags = py_and_dry.intersection(prepare_to_py)\n",
    "print(frozen_intersected_tags)"
   ]
  },
  {
   "cell_type": "markdown",
   "metadata": {},
   "source": [
    "### `&` operator"
   ]
  },
  {
   "cell_type": "code",
   "execution_count": 14,
   "metadata": {},
   "outputs": [
    {
     "name": "stdout",
     "output_type": "stream",
     "text": [
      "{'rock', 'electric guitar'}\n"
     ]
    }
   ],
   "source": [
    "# Find the intersection using the operator `&` and providing the normal set first\n",
    "intersected_tags = prepare_to_py & py_and_dry\n",
    "print(intersected_tags)"
   ]
  },
  {
   "cell_type": "markdown",
   "metadata": {},
   "source": [
    "### `.intersection_update()`\n",
    "\n",
    "Instead of returning a new set, the `.intersection_update()` method updates the set in place."
   ]
  },
  {
   "cell_type": "markdown",
   "metadata": {},
   "source": [
    "## Set Difference\n",
    "\n",
    "The difference of two sets is the set of all elements that are in the first set but not in the second set. You can use the `-` operator or the `difference()` method to perform a difference operation."
   ]
  },
  {
   "cell_type": "markdown",
   "metadata": {},
   "source": [
    "### `difference()`"
   ]
  },
  {
   "cell_type": "code",
   "execution_count": 5,
   "metadata": {},
   "outputs": [
    {
     "name": "stdout",
     "output_type": "stream",
     "text": [
      "{'synth', 'heavy metal'}\n"
     ]
    }
   ],
   "source": [
    "# Given a set and frozenset of song tags for two python related hits\n",
    "prepare_to_py = {'rock', 'heavy metal', 'electric guitar', 'synth'}\n",
    "\n",
    "py_and_dry = frozenset({'classic', 'rock', 'electric guitar', 'rock and roll'})\n",
    "\n",
    "# Find the elements which are only in prepare_to_py\n",
    "only_in_prepare_to_py = prepare_to_py.difference(py_and_dry)\n",
    "print(only_in_prepare_to_py)"
   ]
  },
  {
   "cell_type": "markdown",
   "metadata": {},
   "source": [
    "### `-` operator"
   ]
  },
  {
   "cell_type": "code",
   "execution_count": 6,
   "metadata": {},
   "outputs": [
    {
     "name": "stdout",
     "output_type": "stream",
     "text": [
      "frozenset({'classic', 'rock and roll'})\n"
     ]
    }
   ],
   "source": [
    "# Find the elements which are only in py_and_dry\n",
    "only_in_py_and_dry = py_and_dry - prepare_to_py\n",
    "print(only_in_py_and_dry)"
   ]
  },
  {
   "cell_type": "markdown",
   "metadata": {},
   "source": [
    "### `.difference_update()`\n",
    "\n",
    "This operation also supports the updating version, which updates the set in place."
   ]
  },
  {
   "cell_type": "markdown",
   "metadata": {},
   "source": [
    "## Symmetric Difference\n",
    "\n",
    "The symmetric difference of two sets is the set of all elements that are in one set but not in both sets. You can use the `^` operator or the `symmetric_difference()` method to perform a symmetric difference operation. We can think of this operation as the opposite of the intersection operation."
   ]
  },
  {
   "cell_type": "markdown",
   "metadata": {},
   "source": [
    "### `symmetric_difference()`"
   ]
  },
  {
   "cell_type": "code",
   "execution_count": 7,
   "metadata": {},
   "outputs": [
    {
     "name": "stdout",
     "output_type": "stream",
     "text": [
      "{'rock and roll', 'synth', 'classic', 'heavy metal'}\n"
     ]
    }
   ],
   "source": [
    "# Given a set and frozenset of song tags for two python related hits\n",
    "prepare_to_py = {'rock', 'heavy metal', 'electric guitar', 'synth'}\n",
    "\n",
    "py_and_dry = frozenset({'classic', 'rock', 'electric guitar', 'rock and roll'})\n",
    "\n",
    "# Find the elements which are exclusive to each song and not shared using the method\n",
    "exclusive_tags = prepare_to_py.symmetric_difference(py_and_dry)\n",
    "print(exclusive_tags)"
   ]
  },
  {
   "cell_type": "markdown",
   "metadata": {},
   "source": [
    "### `^` operator"
   ]
  },
  {
   "cell_type": "code",
   "execution_count": 8,
   "metadata": {},
   "outputs": [
    {
     "name": "stdout",
     "output_type": "stream",
     "text": [
      "frozenset({'rock and roll', 'synth', 'classic', 'heavy metal'})\n"
     ]
    }
   ],
   "source": [
    "# Find the elements which are exclusive to each song and not shared using the operator\n",
    "frozen_exclusive_tags = py_and_dry ^ prepare_to_py\n",
    "print(frozen_exclusive_tags)"
   ]
  },
  {
   "cell_type": "markdown",
   "metadata": {},
   "source": [
    "### `.symmetric_difference_update()`\n",
    "\n",
    "This operation also supports the updating version, which updates the set in place."
   ]
  }
 ],
 "metadata": {
  "kernelspec": {
   "display_name": "Python 3",
   "language": "python",
   "name": "python3"
  },
  "language_info": {
   "codemirror_mode": {
    "name": "ipython",
    "version": 3
   },
   "file_extension": ".py",
   "mimetype": "text/x-python",
   "name": "python",
   "nbconvert_exporter": "python",
   "pygments_lexer": "ipython3",
   "version": "3.10.0"
  }
 },
 "nbformat": 4,
 "nbformat_minor": 2
}
