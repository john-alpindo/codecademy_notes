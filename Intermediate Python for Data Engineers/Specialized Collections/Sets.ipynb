{
 "cells": [
  {
   "cell_type": "markdown",
   "metadata": {},
   "source": [
    "# Sets\n"
   ]
  },
  {
   "cell_type": "markdown",
   "metadata": {},
   "source": [
    "## Introduction to Python Sets\n",
    "Sets are unordered collections of unique elements. Sets are mutable, meaning that you can add or remove elements from a set. Alternatively, you can create a set with the `frozenset()` function, which creates an immutable set. Sets are useful for storing unique elements and performing set operations such as union, intersection, difference, and symmetric difference."
   ]
  },
  {
   "cell_type": "markdown",
   "metadata": {},
   "source": [
    "## Creating a Set\n",
    "\n",
    "You can create a set by using curly braces `{}` or the `set()` function. To create an empty set, you must use the `set()` function because `{}` creates an empty dictionary."
   ]
  },
  {
   "cell_type": "code",
   "execution_count": 1,
   "metadata": {},
   "outputs": [],
   "source": [
    "# Creating a set with curly braces\n",
    "music_genres = {'country', 'punk', 'rap', 'techno', 'pop', 'latin'}\n",
    "\n",
    "# Creating a set from a list using set()\n",
    "music_genres_2 = set(['country', 'punk', 'rap', 'techno', 'pop', 'latin'])"
   ]
  },
  {
   "cell_type": "markdown",
   "metadata": {},
   "source": [
    "It's worth noting that creating a set from a list will remove any duplicate elements from the list."
   ]
  },
  {
   "cell_type": "code",
   "execution_count": 2,
   "metadata": {},
   "outputs": [
    {
     "name": "stdout",
     "output_type": "stream",
     "text": [
      "{'punk', 'country', 'pop', 'rap'}\n"
     ]
    }
   ],
   "source": [
    "# Creating a set from a list that contains duplicates\n",
    "music_genres_3 = set(['country', 'punk', 'rap', 'pop', 'pop', 'pop'])\n",
    "print(music_genres_3)"
   ]
  },
  {
   "cell_type": "markdown",
   "metadata": {},
   "source": [
    "Set can contain elements of different data types, such as integers, floats, strings, and tuples. However, sets cannot contain mutable elements like lists, dictionaries, or other sets."
   ]
  },
  {
   "cell_type": "code",
   "execution_count": 7,
   "metadata": {},
   "outputs": [
    {
     "name": "stdout",
     "output_type": "stream",
     "text": [
      "{True, 'country', ('a', 'b', 'c'), 'music times', 70, 45.7, 'categories'}\n"
     ]
    }
   ],
   "source": [
    "music_different = {70, 'music times', 'categories', True , 'country', 45.7, ('a', 'b', 'c')}\n",
    "print(music_different)"
   ]
  },
  {
   "cell_type": "markdown",
   "metadata": {},
   "source": [
    "Creating an empty set with `{}` will create an empty dictionary, not an empty set. To create an empty set, you must use the `set()` function."
   ]
  },
  {
   "cell_type": "code",
   "execution_count": 9,
   "metadata": {},
   "outputs": [],
   "source": [
    "empty_genres = set()"
   ]
  },
  {
   "cell_type": "markdown",
   "metadata": {},
   "source": [
    "Simila to lists, sets can be created using a set comprehension. A set comprehension is similar to a list comprehension, but it creates a set instead of a list."
   ]
  },
  {
   "cell_type": "code",
   "execution_count": 10,
   "metadata": {},
   "outputs": [
    {
     "name": "stdout",
     "output_type": "stream",
     "text": [
      "{'punk', 'pop'}\n"
     ]
    }
   ],
   "source": [
    "items = ['country', 'punk', 'rap', 'techno', 'pop', 'latin']\n",
    "\n",
    "music_genres = {category for category in items if category[0] == 'p'}\n",
    "print(music_genres)"
   ]
  }
 ],
 "metadata": {
  "kernelspec": {
   "display_name": "Python 3",
   "language": "python",
   "name": "python3"
  },
  "language_info": {
   "codemirror_mode": {
    "name": "ipython",
    "version": 3
   },
   "file_extension": ".py",
   "mimetype": "text/x-python",
   "name": "python",
   "nbconvert_exporter": "python",
   "pygments_lexer": "ipython3",
   "version": "3.10.0"
  }
 },
 "nbformat": 4,
 "nbformat_minor": 2
}
