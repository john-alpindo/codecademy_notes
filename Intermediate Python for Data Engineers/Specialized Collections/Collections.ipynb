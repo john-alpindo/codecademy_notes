{
 "cells": [
  {
   "cell_type": "markdown",
   "metadata": {},
   "source": [
    "# Collections"
   ]
  },
  {
   "cell_type": "markdown",
   "metadata": {},
   "source": [
    "## Recap: Python Containers"
   ]
  },
  {
   "cell_type": "markdown",
   "metadata": {},
   "source": [
    "### List\n",
    "\n",
    "List is a collection which is ordered and changeable. Allows duplicate members."
   ]
  },
  {
   "cell_type": "code",
   "execution_count": null,
   "metadata": {},
   "outputs": [],
   "source": [
    "products = ['t-shirt', 'pants', 'shoes', 'dress', 'blouse']\n",
    "\n",
    "products.append('jacket')\n",
    "products.sort()\n",
    "products.remove('shoes')"
   ]
  },
  {
   "cell_type": "markdown",
   "metadata": {},
   "source": [
    "### Tuple\n",
    "\n",
    "Tuple is a collection which is ordered and unchangeable. Allows duplicate members."
   ]
  },
  {
   "cell_type": "code",
   "execution_count": null,
   "metadata": {},
   "outputs": [],
   "source": [
    "searched_terms = ('clothes', 'phone', 'app', 'purchase', 'clothes', 'store', 'app', 'clothes')\n",
    "\n",
    "term = searched_terms[2]\n",
    "num_of_occurrences = searched_terms.count('clothes')"
   ]
  },
  {
   "cell_type": "markdown",
   "metadata": {},
   "source": [
    "### Dictionaries\n",
    "\n",
    "Dictionaries are unordered collections of key-value pairs."
   ]
  },
  {
   "cell_type": "code",
   "execution_count": null,
   "metadata": {},
   "outputs": [],
   "source": [
    "orders = {'order_4829': {'type': 't-shirt', 'size': 'large', 'price': 9.99}, \n",
    "          'order_6184': {'type': 'pants', 'size': 'medium', 'price': 14.99}\n",
    "         }\n",
    "\n",
    "order_4829_price = orders['order_4829']['price']\n",
    "order_6184_size = orders['order_6184']['size']\n",
    "orders['order_4829']['size'] = 'x-large'\n",
    "num_of_orders = len(orders)"
   ]
  },
  {
   "cell_type": "markdown",
   "metadata": {},
   "source": [
    "### Sets\n",
    "\n",
    "Sets are unordered collections of unique elements."
   ]
  },
  {
   "cell_type": "code",
   "execution_count": null,
   "metadata": {},
   "outputs": [],
   "source": [
    "old_products_set = {'t-shirt', 'pants', 'shoes'}\n",
    "new_products_set = {'t-shirt', 'pants', 'blouse', 'dress'}\n",
    "updated_products = new_products_set | old_products_set\n",
    "removed_products = old_products_set - new_products_set"
   ]
  },
  {
   "cell_type": "markdown",
   "metadata": {},
   "source": [
    "## Introduction to Specialized Containers\n",
    "\n",
    "Python provides specialized containers for specific use cases. These specialized containers are not available in the standard library, but are available in the `collections` module.\n",
    "\n",
    "Various ways import the `collections` module:"
   ]
  },
  {
   "cell_type": "code",
   "execution_count": null,
   "metadata": {},
   "outputs": [],
   "source": [
    "# To import a single class or multiple classes\n",
    "from collections import name_of_class, name_of_another_class\n",
    "\n",
    "# To import all classes in the collections module\n",
    "from collections import *\n",
    "\n",
    "# Another way to import all classes in a module\n",
    "import collections"
   ]
  },
  {
   "cell_type": "markdown",
   "metadata": {},
   "source": [
    "Example:"
   ]
  },
  {
   "cell_type": "code",
   "execution_count": null,
   "metadata": {},
   "outputs": [],
   "source": [
    "from collections import OrderedDict\n",
    "\n",
    "orders = OrderedDict({'order_4829': {'type': 't-shirt', 'size': 'large', 'price': 9.99},\n",
    "          'order_6184': {'type': 'pants', 'size': 'medium', 'price': 14.99},\n",
    "          'order_2905': {'type': 'shoes', 'size': 12, 'price': 22.50}})\n",
    "\n",
    "orders.move_to_end('order_4829')\n",
    "orders.popitem()"
   ]
  },
  {
   "cell_type": "markdown",
   "metadata": {},
   "source": [
    "### Advanced Containers\n",
    "- `deque` - list-like container with fast appends and pops on either end\n",
    "- `namedtuple` - tuple subclasses with named fields\n",
    "- `Counter` - dict subclass for counting hashable objects\n",
    "- `defaultdict` - dict subclass that calls a factory function to supply missing values\n",
    "- `OrderedDict` - dict subclass that remembers the order entries were added\n",
    "- `ChainMap` - dict-like class for creating a single view of multiple mappings\n",
    "\n",
    "### Container Wrappers\n",
    "- `UserDict` - wrapper around dictionary objects for easier dict subclassing\n",
    "- `UserList` - wrapper around list objects for easier list subclassing\n",
    "- `UserString` - wrapper around string objects for easier string subclassing"
   ]
  },
  {
   "cell_type": "markdown",
   "metadata": {},
   "source": [
    "## Deque\n",
    "\n",
    "A `deque` is a double-ended queue. It can be used to add or remove elements from both ends. It is similar to a list, but with faster appends and pops to the front and back. However, it is slower than a list for lookups by index."
   ]
  },
  {
   "cell_type": "code",
   "execution_count": null,
   "metadata": {},
   "outputs": [],
   "source": [
    "from collections import deque\n",
    "\n",
    "bug_data = deque()\n",
    "\n",
    "loaded_bug_reports = get_all_bug_reports()\n",
    "\n",
    "for bug in loaded_bug_reports:\n",
    "    if bug['priority'] == 'high':\n",
    "        # With a deque, we can append to the front directly\n",
    "        bug_data.appendleft(bug)\n",
    "    else:\n",
    "        bug_data.append(bug)\n",
    "\n",
    "# With a deque, we can pop from the front directly\n",
    "next_bug_to_fix = bug_data.popleft()"
   ]
  }
 ],
 "metadata": {
  "language_info": {
   "name": "python"
  }
 },
 "nbformat": 4,
 "nbformat_minor": 2
}
