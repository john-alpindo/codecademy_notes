{
 "cells": [
  {
   "cell_type": "markdown",
   "metadata": {},
   "source": [
    "## Resilient Distributed Datasets (RDDs)\n",
    "\n",
    "RDDs are the building blocks of Spark. It is useful for processing unstructured data, such as text or images. \n",
    "\n",
    "### RDDs has three Main properties:\n",
    "\n",
    "1. **Resilient**: RDDs are fault-tolerant, meaning that you can recompute lost data due to node failures.\n",
    "2. **Distributed**: RDDs are distributed across multiple nodes in a cluster.\n",
    "3. **Operated in parallel**: RDDs can be operated in parallel."
   ]
  },
  {
   "cell_type": "markdown",
   "metadata": {},
   "source": [
    "## Start Coding with PySpark"
   ]
  },
  {
   "cell_type": "markdown",
   "metadata": {},
   "source": [
    "`SparkSession` is the entry point to Spark SQL."
   ]
  },
  {
   "cell_type": "code",
   "execution_count": null,
   "metadata": {},
   "outputs": [],
   "source": [
    "from pyspark.sql import SparkSession\n",
    "spark = SparkSession.builder.getOrCreate()"
   ]
  },
  {
   "cell_type": "markdown",
   "metadata": {},
   "source": [
    "`sparkContext` within `SparkSession` is the connection to the Spark cluster and can be used to create and transform RDDs.\n",
    "\n",
    "We can create an RDD from data saved locally using `sparkContext.parallelize()`. We can add an argument to specify the number of partitions to split the data into. Spark defaults to the number of cores on the machine."
   ]
  },
  {
   "cell_type": "code",
   "execution_count": null,
   "metadata": {},
   "outputs": [],
   "source": [
    "# default setting\n",
    "rdd_par = spark.sparkContext.parallelize(dataset_name)"
   ]
  },
  {
   "cell_type": "markdown",
   "metadata": {},
   "source": [
    "If we are working with external data, we can use `sparkContext.textFile()` to create an RDD from a text file."
   ]
  },
  {
   "cell_type": "code",
   "execution_count": null,
   "metadata": {},
   "outputs": [],
   "source": [
    "# with partition argument of 10\n",
    "rdd_txt = spark.sparkContext.textFile(\"file_name.txt\", 10)"
   ]
  },
  {
   "cell_type": "markdown",
   "metadata": {},
   "source": [
    "Verify the number of partitions using `getNumPartitions()`."
   ]
  },
  {
   "cell_type": "code",
   "execution_count": null,
   "metadata": {},
   "outputs": [],
   "source": [
    "rdd_txt.getNumPartitions()\n",
    "# output: 10"
   ]
  },
  {
   "cell_type": "markdown",
   "metadata": {},
   "source": [
    "To end the Spark session, use `spark.stop()`."
   ]
  },
  {
   "cell_type": "code",
   "execution_count": null,
   "metadata": {},
   "outputs": [],
   "source": [
    "spark.stop()"
   ]
  }
 ],
 "metadata": {
  "kernelspec": {
   "display_name": "Python 3",
   "language": "python",
   "name": "python3"
  },
  "language_info": {
   "codemirror_mode": {
    "name": "ipython",
    "version": 3
   },
   "file_extension": ".py",
   "mimetype": "text/x-python",
   "name": "python",
   "nbconvert_exporter": "python",
   "pygments_lexer": "ipython3",
   "version": "3.10.0"
  }
 },
 "nbformat": 4,
 "nbformat_minor": 2
}
